{
 "cells": [
  {
   "cell_type": "code",
   "execution_count": 1,
   "id": "55d50b4e",
   "metadata": {
    "_cell_guid": "b1076dfc-b9ad-4769-8c92-a6c4dae69d19",
    "_uuid": "8f2839f25d086af736a60e9eeb907d3b93b6e0e5",
    "execution": {
     "iopub.execute_input": "2022-07-18T04:26:52.017908Z",
     "iopub.status.busy": "2022-07-18T04:26:52.017278Z",
     "iopub.status.idle": "2022-07-18T04:26:52.036335Z",
     "shell.execute_reply": "2022-07-18T04:26:52.035162Z"
    },
    "papermill": {
     "duration": 0.032888,
     "end_time": "2022-07-18T04:26:52.038668",
     "exception": false,
     "start_time": "2022-07-18T04:26:52.005780",
     "status": "completed"
    },
    "tags": []
   },
   "outputs": [
    {
     "name": "stdout",
     "output_type": "stream",
     "text": [
      "/kaggle/input/amexfeather/test_data_f32.ftr\n",
      "/kaggle/input/amexfeather/train_data.ftr\n",
      "/kaggle/input/amexfeather/train_data_f32.ftr\n",
      "/kaggle/input/amexfeather/test_data.ftr\n",
      "/kaggle/input/amex-default-prediction/sample_submission.csv\n",
      "/kaggle/input/amex-default-prediction/train_data.csv\n",
      "/kaggle/input/amex-default-prediction/test_data.csv\n",
      "/kaggle/input/amex-default-prediction/train_labels.csv\n"
     ]
    }
   ],
   "source": [
    "# This Python 3 environment comes with many helpful analytics libraries installed\n",
    "# It is defined by the kaggle/python Docker image: https://github.com/kaggle/docker-python\n",
    "# For example, here's several helpful packages to load\n",
    "\n",
    "import numpy as np # linear algebra\n",
    "import pandas as pd # data processing, CSV file I/O (e.g. pd.read_csv)\n",
    "\n",
    "# Input data files are available in the read-only \"../input/\" directory\n",
    "# For example, running this (by clicking run or pressing Shift+Enter) will list all files under the input directory\n",
    "\n",
    "import os\n",
    "for dirname, _, filenames in os.walk('/kaggle/input'):\n",
    "    for filename in filenames:\n",
    "        print(os.path.join(dirname, filename))\n",
    "\n",
    "# You can write up to 20GB to the current directory (/kaggle/working/) that gets preserved as output when you create a version using \"Save & Run All\" \n",
    "# You can also write temporary files to /kaggle/temp/, but they won't be saved outside of the current session"
   ]
  },
  {
   "cell_type": "code",
   "execution_count": 2,
   "id": "54757219",
   "metadata": {
    "execution": {
     "iopub.execute_input": "2022-07-18T04:26:52.060683Z",
     "iopub.status.busy": "2022-07-18T04:26:52.059952Z",
     "iopub.status.idle": "2022-07-18T04:26:52.064350Z",
     "shell.execute_reply": "2022-07-18T04:26:52.063315Z"
    },
    "papermill": {
     "duration": 0.016716,
     "end_time": "2022-07-18T04:26:52.066437",
     "exception": false,
     "start_time": "2022-07-18T04:26:52.049721",
     "status": "completed"
    },
    "tags": []
   },
   "outputs": [],
   "source": [
    "#pip install lightgbm --install-option=--gpu"
   ]
  },
  {
   "cell_type": "code",
   "execution_count": 3,
   "id": "0dd705b9",
   "metadata": {
    "execution": {
     "iopub.execute_input": "2022-07-18T04:26:52.085905Z",
     "iopub.status.busy": "2022-07-18T04:26:52.085200Z",
     "iopub.status.idle": "2022-07-18T04:26:54.343497Z",
     "shell.execute_reply": "2022-07-18T04:26:54.342317Z"
    },
    "papermill": {
     "duration": 2.270976,
     "end_time": "2022-07-18T04:26:54.346148",
     "exception": false,
     "start_time": "2022-07-18T04:26:52.075172",
     "status": "completed"
    },
    "tags": []
   },
   "outputs": [
    {
     "data": {
      "text/html": [
       "<style type='text/css'>\n",
       ".datatable table.frame { margin-bottom: 0; }\n",
       ".datatable table.frame thead { border-bottom: none; }\n",
       ".datatable table.frame tr.coltypes td {  color: #FFFFFF;  line-height: 6px;  padding: 0 0.5em;}\n",
       ".datatable .bool    { background: #DDDD99; }\n",
       ".datatable .object  { background: #565656; }\n",
       ".datatable .int     { background: #5D9E5D; }\n",
       ".datatable .float   { background: #4040CC; }\n",
       ".datatable .str     { background: #CC4040; }\n",
       ".datatable .time    { background: #40CC40; }\n",
       ".datatable .row_index {  background: var(--jp-border-color3);  border-right: 1px solid var(--jp-border-color0);  color: var(--jp-ui-font-color3);  font-size: 9px;}\n",
       ".datatable .frame tbody td { text-align: left; }\n",
       ".datatable .frame tr.coltypes .row_index {  background: var(--jp-border-color0);}\n",
       ".datatable th:nth-child(2) { padding-left: 12px; }\n",
       ".datatable .hellipsis {  color: var(--jp-cell-editor-border-color);}\n",
       ".datatable .vellipsis {  background: var(--jp-layout-color0);  color: var(--jp-cell-editor-border-color);}\n",
       ".datatable .na {  color: var(--jp-cell-editor-border-color);  font-size: 80%;}\n",
       ".datatable .sp {  opacity: 0.25;}\n",
       ".datatable .footer { font-size: 9px; }\n",
       ".datatable .frame_dimensions {  background: var(--jp-border-color3);  border-top: 1px solid var(--jp-border-color0);  color: var(--jp-ui-font-color3);  display: inline-block;  opacity: 0.6;  padding: 1px 10px 1px 5px;}\n",
       "</style>\n"
      ],
      "text/plain": [
       "<IPython.core.display.HTML object>"
      ]
     },
     "metadata": {},
     "output_type": "display_data"
    }
   ],
   "source": [
    "import pandas as pd\n",
    "import numpy as np\n",
    "\n",
    "from lightgbm import LGBMClassifier, early_stopping, log_evaluation\n",
    "\n",
    "from sklearn.model_selection import train_test_split\n",
    "from sklearn.preprocessing import OrdinalEncoder\n",
    "from sklearn.metrics import confusion_matrix, ConfusionMatrixDisplay\n",
    "\n",
    "import seaborn as sns\n",
    "import matplotlib.pyplot as plt\n",
    "\n",
    "import gc"
   ]
  },
  {
   "cell_type": "code",
   "execution_count": 4,
   "id": "3b8e1df1",
   "metadata": {
    "execution": {
     "iopub.execute_input": "2022-07-18T04:26:54.365761Z",
     "iopub.status.busy": "2022-07-18T04:26:54.365348Z",
     "iopub.status.idle": "2022-07-18T04:26:54.370537Z",
     "shell.execute_reply": "2022-07-18T04:26:54.369413Z"
    },
    "papermill": {
     "duration": 0.017442,
     "end_time": "2022-07-18T04:26:54.372794",
     "exception": false,
     "start_time": "2022-07-18T04:26:54.355352",
     "status": "completed"
    },
    "tags": []
   },
   "outputs": [],
   "source": [
    "class CONFIG:\n",
    "    random_state = 1001\n",
    "    kaggle = True\n",
    "    path = '../input/amexfeather'\n",
    "    local_path = ''"
   ]
  },
  {
   "cell_type": "code",
   "execution_count": 5,
   "id": "21cf170a",
   "metadata": {
    "execution": {
     "iopub.execute_input": "2022-07-18T04:26:54.393293Z",
     "iopub.status.busy": "2022-07-18T04:26:54.392562Z",
     "iopub.status.idle": "2022-07-18T04:27:12.953861Z",
     "shell.execute_reply": "2022-07-18T04:27:12.952904Z"
    },
    "papermill": {
     "duration": 18.574873,
     "end_time": "2022-07-18T04:27:12.956567",
     "exception": false,
     "start_time": "2022-07-18T04:26:54.381694",
     "status": "completed"
    },
    "tags": []
   },
   "outputs": [],
   "source": [
    "df_train = pd.read_feather(f'{CONFIG.path}/train_data.ftr')"
   ]
  },
  {
   "cell_type": "code",
   "execution_count": 6,
   "id": "0e01afc9",
   "metadata": {
    "execution": {
     "iopub.execute_input": "2022-07-18T04:27:12.977325Z",
     "iopub.status.busy": "2022-07-18T04:27:12.976153Z",
     "iopub.status.idle": "2022-07-18T04:27:19.209399Z",
     "shell.execute_reply": "2022-07-18T04:27:19.208322Z"
    },
    "papermill": {
     "duration": 6.246528,
     "end_time": "2022-07-18T04:27:19.212323",
     "exception": false,
     "start_time": "2022-07-18T04:27:12.965795",
     "status": "completed"
    },
    "tags": []
   },
   "outputs": [],
   "source": [
    "df_train = df_train.drop(['S_2'], axis=1)\n",
    "df_train = df_train.groupby('customer_ID')\n",
    "df_train = df_train.tail(1)\n",
    "df_train.set_index('customer_ID', inplace=True) \n",
    "#df_train.tail(2)"
   ]
  },
  {
   "cell_type": "code",
   "execution_count": 7,
   "id": "38a21459",
   "metadata": {
    "execution": {
     "iopub.execute_input": "2022-07-18T04:27:19.232358Z",
     "iopub.status.busy": "2022-07-18T04:27:19.231959Z",
     "iopub.status.idle": "2022-07-18T04:27:19.239997Z",
     "shell.execute_reply": "2022-07-18T04:27:19.239038Z"
    },
    "papermill": {
     "duration": 0.020612,
     "end_time": "2022-07-18T04:27:19.242048",
     "exception": false,
     "start_time": "2022-07-18T04:27:19.221436",
     "status": "completed"
    },
    "tags": []
   },
   "outputs": [
    {
     "data": {
      "text/plain": [
       "188"
      ]
     },
     "execution_count": 7,
     "metadata": {},
     "output_type": "execute_result"
    }
   ],
   "source": [
    "total_cols = df_train.columns.to_list()\n",
    "cat_features = ['B_30', 'B_38', 'D_126', 'D_63', 'D_64']\n",
    "num_features = [col for col in total_cols if col not in cat_features + [\"target\", \"customer_ID\", \"S_2\"] ]\n",
    "len(num_features) + len(cat_features)"
   ]
  },
  {
   "cell_type": "code",
   "execution_count": 8,
   "id": "477102d6",
   "metadata": {
    "execution": {
     "iopub.execute_input": "2022-07-18T04:27:19.262238Z",
     "iopub.status.busy": "2022-07-18T04:27:19.261600Z",
     "iopub.status.idle": "2022-07-18T04:27:20.023122Z",
     "shell.execute_reply": "2022-07-18T04:27:20.022252Z"
    },
    "papermill": {
     "duration": 0.774254,
     "end_time": "2022-07-18T04:27:20.025567",
     "exception": false,
     "start_time": "2022-07-18T04:27:19.251313",
     "status": "completed"
    },
    "tags": []
   },
   "outputs": [],
   "source": [
    "temp = df_train.isna().sum().mul(100).div(len(df_train)).sort_values(ascending=False)\n",
    "missing_df = pd.DataFrame(temp).reset_index()\n",
    "\n",
    "dropped_columns = missing_df[missing_df[0]>0.7][\"index\"].values\n",
    "df_train.drop(columns = dropped_columns,axis=1, inplace=True)"
   ]
  },
  {
   "cell_type": "code",
   "execution_count": 9,
   "id": "2b23ccae",
   "metadata": {
    "execution": {
     "iopub.execute_input": "2022-07-18T04:27:20.046218Z",
     "iopub.status.busy": "2022-07-18T04:27:20.045412Z",
     "iopub.status.idle": "2022-07-18T04:27:23.005844Z",
     "shell.execute_reply": "2022-07-18T04:27:23.004636Z"
    },
    "papermill": {
     "duration": 2.973856,
     "end_time": "2022-07-18T04:27:23.008608",
     "exception": false,
     "start_time": "2022-07-18T04:27:20.034752",
     "status": "completed"
    },
    "tags": []
   },
   "outputs": [],
   "source": [
    "from sklearn.impute import SimpleImputer\n",
    "imputer=SimpleImputer(strategy=\"most_frequent\")\n",
    "transformed_df = pd.DataFrame(imputer.fit_transform(df_train[cat_features]),columns = cat_features)\n",
    "df_train[cat_features] = transformed_df[cat_features]"
   ]
  },
  {
   "cell_type": "code",
   "execution_count": 10,
   "id": "0ac37720",
   "metadata": {
    "execution": {
     "iopub.execute_input": "2022-07-18T04:27:23.029468Z",
     "iopub.status.busy": "2022-07-18T04:27:23.029088Z",
     "iopub.status.idle": "2022-07-18T04:27:24.133771Z",
     "shell.execute_reply": "2022-07-18T04:27:24.132336Z"
    },
    "papermill": {
     "duration": 1.118999,
     "end_time": "2022-07-18T04:27:24.136879",
     "exception": false,
     "start_time": "2022-07-18T04:27:23.017880",
     "status": "completed"
    },
    "tags": []
   },
   "outputs": [],
   "source": [
    "from sklearn.preprocessing import OrdinalEncoder\n",
    "oe = OrdinalEncoder(handle_unknown=\"use_encoded_value\", unknown_value=-999)\n",
    "oe.fit(df_train[cat_features])\n",
    "df_train_enc = oe.transform(df_train[cat_features])\n",
    "df_train[cat_features]=df_train_enc"
   ]
  },
  {
   "cell_type": "markdown",
   "id": "bc9bbe3f",
   "metadata": {
    "papermill": {
     "duration": 0.0088,
     "end_time": "2022-07-18T04:27:24.154683",
     "exception": false,
     "start_time": "2022-07-18T04:27:24.145883",
     "status": "completed"
    },
    "tags": []
   },
   "source": [
    "### **Competition Metric¶**"
   ]
  },
  {
   "cell_type": "code",
   "execution_count": 11,
   "id": "824bd670",
   "metadata": {
    "execution": {
     "iopub.execute_input": "2022-07-18T04:27:24.174588Z",
     "iopub.status.busy": "2022-07-18T04:27:24.173945Z",
     "iopub.status.idle": "2022-07-18T04:27:24.189500Z",
     "shell.execute_reply": "2022-07-18T04:27:24.188526Z"
    },
    "papermill": {
     "duration": 0.027869,
     "end_time": "2022-07-18T04:27:24.191568",
     "exception": false,
     "start_time": "2022-07-18T04:27:24.163699",
     "status": "completed"
    },
    "tags": []
   },
   "outputs": [],
   "source": [
    "def amex_metric(y_true: pd.DataFrame, y_pred: pd.DataFrame) -> float:\n",
    "\n",
    "    def top_four_percent_captured(y_true: pd.DataFrame, y_pred: pd.DataFrame) -> float:\n",
    "        df = (pd.concat([y_true, y_pred], axis='columns')\n",
    "              .sort_values('prediction', ascending=False))\n",
    "        df['weight'] = df['target'].apply(lambda x: 20 if x==0 else 1)\n",
    "        four_pct_cutoff = int(0.04 * df['weight'].sum())\n",
    "        df['weight_cumsum'] = df['weight'].cumsum()\n",
    "        df_cutoff = df.loc[df['weight_cumsum'] <= four_pct_cutoff]\n",
    "        return (df_cutoff['target'] == 1).sum() / (df['target'] == 1).sum()\n",
    "        \n",
    "    def weighted_gini(y_true: pd.DataFrame, y_pred: pd.DataFrame) -> float:\n",
    "        df = (pd.concat([y_true, y_pred], axis='columns')\n",
    "              .sort_values('prediction', ascending=False))\n",
    "        df['weight'] = df['target'].apply(lambda x: 20 if x==0 else 1)\n",
    "        df['random'] = (df['weight'] / df['weight'].sum()).cumsum()\n",
    "        total_pos = (df['target'] * df['weight']).sum()\n",
    "        df['cum_pos_found'] = (df['target'] * df['weight']).cumsum()\n",
    "        df['lorentz'] = df['cum_pos_found'] / total_pos\n",
    "        df['gini'] = (df['lorentz'] - df['random']) * df['weight']\n",
    "        return df['gini'].sum()\n",
    "\n",
    "    def normalized_weighted_gini(y_true: pd.DataFrame, y_pred: pd.DataFrame) -> float:\n",
    "        y_true_pred = y_true.rename(columns={'target': 'prediction'})\n",
    "        return weighted_gini(y_true, y_pred) / weighted_gini(y_true, y_true_pred)\n",
    "\n",
    "    g = normalized_weighted_gini(y_true, y_pred)\n",
    "    d = top_four_percent_captured(y_true, y_pred)\n",
    "\n",
    "    return 0.5 * (g + d)"
   ]
  },
  {
   "cell_type": "code",
   "execution_count": 12,
   "id": "c0799ec6",
   "metadata": {
    "execution": {
     "iopub.execute_input": "2022-07-18T04:27:24.212076Z",
     "iopub.status.busy": "2022-07-18T04:27:24.211200Z",
     "iopub.status.idle": "2022-07-18T04:27:24.217203Z",
     "shell.execute_reply": "2022-07-18T04:27:24.216030Z"
    },
    "papermill": {
     "duration": 0.018759,
     "end_time": "2022-07-18T04:27:24.219475",
     "exception": false,
     "start_time": "2022-07-18T04:27:24.200716",
     "status": "completed"
    },
    "tags": []
   },
   "outputs": [],
   "source": [
    "total_cols = df_train.columns.to_list()\n",
    "cat_features = ['B_30', 'B_38', 'D_126', 'D_63', 'D_64']\n",
    "num_features = [col for col in total_cols if col not in cat_features + [\"target\", \"customer_ID\", \"S_2\"] ]"
   ]
  },
  {
   "cell_type": "code",
   "execution_count": 13,
   "id": "4345206f",
   "metadata": {
    "execution": {
     "iopub.execute_input": "2022-07-18T04:27:24.239786Z",
     "iopub.status.busy": "2022-07-18T04:27:24.238760Z",
     "iopub.status.idle": "2022-07-18T04:27:24.450248Z",
     "shell.execute_reply": "2022-07-18T04:27:24.448810Z"
    },
    "papermill": {
     "duration": 0.224185,
     "end_time": "2022-07-18T04:27:24.452994",
     "exception": false,
     "start_time": "2022-07-18T04:27:24.228809",
     "status": "completed"
    },
    "tags": []
   },
   "outputs": [
    {
     "data": {
      "text/plain": [
       "((458913, 124), (458913,))"
      ]
     },
     "execution_count": 13,
     "metadata": {},
     "output_type": "execute_result"
    }
   ],
   "source": [
    "x = df_train[cat_features + num_features]\n",
    "y = df_train['target']\n",
    "\n",
    "x.shape, y.shape"
   ]
  },
  {
   "cell_type": "code",
   "execution_count": 14,
   "id": "7303edda",
   "metadata": {
    "execution": {
     "iopub.execute_input": "2022-07-18T04:27:24.473831Z",
     "iopub.status.busy": "2022-07-18T04:27:24.473429Z",
     "iopub.status.idle": "2022-07-18T04:27:24.478260Z",
     "shell.execute_reply": "2022-07-18T04:27:24.477197Z"
    },
    "papermill": {
     "duration": 0.018218,
     "end_time": "2022-07-18T04:27:24.480604",
     "exception": false,
     "start_time": "2022-07-18T04:27:24.462386",
     "status": "completed"
    },
    "tags": []
   },
   "outputs": [],
   "source": [
    "features = cat_features + num_features"
   ]
  },
  {
   "cell_type": "code",
   "execution_count": 15,
   "id": "391dca31",
   "metadata": {
    "execution": {
     "iopub.execute_input": "2022-07-18T04:27:24.501245Z",
     "iopub.status.busy": "2022-07-18T04:27:24.500337Z",
     "iopub.status.idle": "2022-07-18T04:27:25.595797Z",
     "shell.execute_reply": "2022-07-18T04:27:25.594614Z"
    },
    "papermill": {
     "duration": 1.10826,
     "end_time": "2022-07-18T04:27:25.598209",
     "exception": false,
     "start_time": "2022-07-18T04:27:24.489949",
     "status": "completed"
    },
    "tags": []
   },
   "outputs": [
    {
     "data": {
      "text/plain": [
       "((321239, 124), (137674, 124), (321239,), (137674,))"
      ]
     },
     "execution_count": 15,
     "metadata": {},
     "output_type": "execute_result"
    }
   ],
   "source": [
    "X_train, X_test, y_train, y_test = train_test_split(x,y,\n",
    "                            test_size=0.3,random_state=CONFIG.random_state, \n",
    "                                                    stratify = y)\n",
    "X_train.shape, X_test.shape, y_train.shape, y_test.shape"
   ]
  },
  {
   "cell_type": "code",
   "execution_count": 16,
   "id": "259d3b34",
   "metadata": {
    "execution": {
     "iopub.execute_input": "2022-07-18T04:27:25.618441Z",
     "iopub.status.busy": "2022-07-18T04:27:25.618080Z",
     "iopub.status.idle": "2022-07-18T04:27:25.626129Z",
     "shell.execute_reply": "2022-07-18T04:27:25.625076Z"
    },
    "papermill": {
     "duration": 0.02112,
     "end_time": "2022-07-18T04:27:25.628485",
     "exception": false,
     "start_time": "2022-07-18T04:27:25.607365",
     "status": "completed"
    },
    "scrolled": true,
    "tags": []
   },
   "outputs": [
    {
     "data": {
      "text/plain": [
       "\"\\nimport optuna\\nimport optuna.integration.lightgbm as lgb\\nfrom sklearn.model_selection import RepeatedKFold\\n\\nimport warnings\\nwarnings.simplefilter(action='ignore', category=FutureWarning)\\nwarnings.simplefilter(action='ignore', category=UserWarning)\\n\\nrkf = RepeatedKFold(n_splits = 3, n_repeats = 3, random_state=42)\\n\\nfixed_params = {\\n    'objective': 'binary',\\n    'metric': 'auc',\\n    'boosting_type': 'dart',\\n    'force_row_wise' : True,\\n    'random_state' : CONFIG.random_state,\\n    'extra_trees' : True,\\n    'feature_pre_filter': False,\\n    'verbose' : -1,\\n    'n_estimators': 300,\\n    'early_stopping_round': 30\\n}\\n\\nX = np.array(X_train[features])\\ny = np.array(y_train).flatten()\\n\\ndtrain = lgb.Dataset(X, label = y, categorical_feature = 'auto')    \\n\\ntuner = lgb.LightGBMTunerCV(\\n        fixed_params, dtrain, \\n        verbose_eval = None,\\n        time_budget = 1000,\\n        folds = rkf,\\n        num_boost_round = 10,\\n        shuffle = True\\n)\\n\\ntuner.run()\\n\""
      ]
     },
     "execution_count": 16,
     "metadata": {},
     "output_type": "execute_result"
    }
   ],
   "source": [
    "'''\n",
    "import optuna\n",
    "import optuna.integration.lightgbm as lgb\n",
    "from sklearn.model_selection import RepeatedKFold\n",
    "\n",
    "import warnings\n",
    "warnings.simplefilter(action='ignore', category=FutureWarning)\n",
    "warnings.simplefilter(action='ignore', category=UserWarning)\n",
    "\n",
    "rkf = RepeatedKFold(n_splits = 3, n_repeats = 3, random_state=42)\n",
    "\n",
    "fixed_params = {\n",
    "    'objective': 'binary',\n",
    "    'metric': 'auc',\n",
    "    'boosting_type': 'dart',\n",
    "    'force_row_wise' : True,\n",
    "    'random_state' : CONFIG.random_state,\n",
    "    'extra_trees' : True,\n",
    "    'feature_pre_filter': False,\n",
    "    'verbose' : -1,\n",
    "    'n_estimators': 300,\n",
    "    'early_stopping_round': 30\n",
    "}\n",
    "\n",
    "X = np.array(X_train[features])\n",
    "y = np.array(y_train).flatten()\n",
    "\n",
    "dtrain = lgb.Dataset(X, label = y, categorical_feature = 'auto')    \n",
    "\n",
    "tuner = lgb.LightGBMTunerCV(\n",
    "        fixed_params, dtrain, \n",
    "        verbose_eval = None,\n",
    "        time_budget = 1000,\n",
    "        folds = rkf,\n",
    "        num_boost_round = 10,\n",
    "        shuffle = True\n",
    ")\n",
    "\n",
    "tuner.run()\n",
    "'''"
   ]
  },
  {
   "cell_type": "code",
   "execution_count": 17,
   "id": "d9d32053",
   "metadata": {
    "execution": {
     "iopub.execute_input": "2022-07-18T04:27:25.649056Z",
     "iopub.status.busy": "2022-07-18T04:27:25.648667Z",
     "iopub.status.idle": "2022-07-18T04:27:25.652812Z",
     "shell.execute_reply": "2022-07-18T04:27:25.652053Z"
    },
    "papermill": {
     "duration": 0.017151,
     "end_time": "2022-07-18T04:27:25.654877",
     "exception": false,
     "start_time": "2022-07-18T04:27:25.637726",
     "status": "completed"
    },
    "tags": []
   },
   "outputs": [],
   "source": [
    "#best_params = tuner.best_params"
   ]
  },
  {
   "cell_type": "code",
   "execution_count": 18,
   "id": "0b664980",
   "metadata": {
    "execution": {
     "iopub.execute_input": "2022-07-18T04:27:25.675607Z",
     "iopub.status.busy": "2022-07-18T04:27:25.675223Z",
     "iopub.status.idle": "2022-07-18T04:27:25.682116Z",
     "shell.execute_reply": "2022-07-18T04:27:25.680995Z"
    },
    "papermill": {
     "duration": 0.020286,
     "end_time": "2022-07-18T04:27:25.684650",
     "exception": false,
     "start_time": "2022-07-18T04:27:25.664364",
     "status": "completed"
    },
    "tags": []
   },
   "outputs": [],
   "source": [
    "best_params={'objective': 'binary',\n",
    " 'metric': 'auc',\n",
    " 'boosting_type': 'dart',\n",
    " 'force_row_wise': True,\n",
    " 'random_state': 1001,\n",
    " 'extra_trees': True,\n",
    " 'feature_pre_filter': False,\n",
    " 'verbose': -1,\n",
    " 'n_estimators': 300,\n",
    " 'early_stopping_round': 30,\n",
    " 'lambda_l1': 0.0,\n",
    " 'lambda_l2': 0.0,\n",
    " 'num_leaves': 31,\n",
    " 'feature_fraction': 0.8,\n",
    " 'bagging_fraction': 1.0,\n",
    " 'bagging_freq': 0,\n",
    " 'min_child_samples': 20}"
   ]
  },
  {
   "cell_type": "code",
   "execution_count": 19,
   "id": "d9b6e8a5",
   "metadata": {
    "execution": {
     "iopub.execute_input": "2022-07-18T04:27:25.705285Z",
     "iopub.status.busy": "2022-07-18T04:27:25.704884Z",
     "iopub.status.idle": "2022-07-18T04:27:25.712086Z",
     "shell.execute_reply": "2022-07-18T04:27:25.711065Z"
    },
    "papermill": {
     "duration": 0.020121,
     "end_time": "2022-07-18T04:27:25.714246",
     "exception": false,
     "start_time": "2022-07-18T04:27:25.694125",
     "status": "completed"
    },
    "tags": []
   },
   "outputs": [
    {
     "data": {
      "text/plain": [
       "\"\\nsearch_params = { \\n    'learning_rate' : 0.065,\\n    'lambda_l1': 0.9018017181896126,\\n    'lambda_l2': 0.06256451709708931,\\n    'num_leaves': 31,\\n    'feature_fraction': 0.5,\\n    'bagging_fraction': 1.0,\\n    'bagging_freq': 0,\\n    'min_child_samples': 20\\n}\\n\\nfixed_params={\\n    'objective': 'binary',\\n     'metric': 'auc',\\n     'boosting_type': 'dart',\\n     'force_row_wise': True,\\n     'random_state': 1001,\\n     'extra_trees': True,\\n     'feature_pre_filter': False,\\n     'verbose': -1,\\n     'n_estimators': 300,\\n     'early_stopping_round': 30\\n}\\n\""
      ]
     },
     "execution_count": 19,
     "metadata": {},
     "output_type": "execute_result"
    }
   ],
   "source": [
    "'''\n",
    "search_params = { \n",
    "    'learning_rate' : 0.065,\n",
    "    'lambda_l1': 0.9018017181896126,\n",
    "    'lambda_l2': 0.06256451709708931,\n",
    "    'num_leaves': 31,\n",
    "    'feature_fraction': 0.5,\n",
    "    'bagging_fraction': 1.0,\n",
    "    'bagging_freq': 0,\n",
    "    'min_child_samples': 20\n",
    "}\n",
    "\n",
    "fixed_params={\n",
    "    'objective': 'binary',\n",
    "     'metric': 'auc',\n",
    "     'boosting_type': 'dart',\n",
    "     'force_row_wise': True,\n",
    "     'random_state': 1001,\n",
    "     'extra_trees': True,\n",
    "     'feature_pre_filter': False,\n",
    "     'verbose': -1,\n",
    "     'n_estimators': 300,\n",
    "     'early_stopping_round': 30\n",
    "}\n",
    "'''"
   ]
  },
  {
   "cell_type": "code",
   "execution_count": 20,
   "id": "237b1283",
   "metadata": {
    "execution": {
     "iopub.execute_input": "2022-07-18T04:27:25.735694Z",
     "iopub.status.busy": "2022-07-18T04:27:25.734988Z",
     "iopub.status.idle": "2022-07-18T04:27:25.740195Z",
     "shell.execute_reply": "2022-07-18T04:27:25.738989Z"
    },
    "papermill": {
     "duration": 0.018398,
     "end_time": "2022-07-18T04:27:25.742473",
     "exception": false,
     "start_time": "2022-07-18T04:27:25.724075",
     "status": "completed"
    },
    "tags": []
   },
   "outputs": [],
   "source": [
    "model = LGBMClassifier(**best_params)#(**fixed_params, **search_params)"
   ]
  },
  {
   "cell_type": "code",
   "execution_count": 21,
   "id": "93e8202b",
   "metadata": {
    "execution": {
     "iopub.execute_input": "2022-07-18T04:27:25.763037Z",
     "iopub.status.busy": "2022-07-18T04:27:25.762649Z",
     "iopub.status.idle": "2022-07-18T04:29:08.053789Z",
     "shell.execute_reply": "2022-07-18T04:29:08.052596Z"
    },
    "papermill": {
     "duration": 102.313621,
     "end_time": "2022-07-18T04:29:08.065595",
     "exception": false,
     "start_time": "2022-07-18T04:27:25.751974",
     "status": "completed"
    },
    "tags": []
   },
   "outputs": [
    {
     "name": "stdout",
     "output_type": "stream",
     "text": [
      "[LightGBM] [Warning] lambda_l1 is set=0.0, reg_alpha=0.0 will be ignored. Current value: lambda_l1=0.0\n",
      "[LightGBM] [Warning] bagging_fraction is set=1.0, subsample=1.0 will be ignored. Current value: bagging_fraction=1.0\n",
      "[LightGBM] [Warning] feature_fraction is set=0.8, colsample_bytree=1.0 will be ignored. Current value: feature_fraction=0.8\n",
      "[LightGBM] [Warning] bagging_freq is set=0, subsample_freq=0 will be ignored. Current value: bagging_freq=0\n",
      "[LightGBM] [Warning] lambda_l2 is set=0.0, reg_lambda=0.0 will be ignored. Current value: lambda_l2=0.0\n"
     ]
    },
    {
     "name": "stderr",
     "output_type": "stream",
     "text": [
      "/opt/conda/lib/python3.7/site-packages/lightgbm/callback.py:223: UserWarning: Early stopping is not available in dart mode\n",
      "  _log_warning('Early stopping is not available in dart mode')\n"
     ]
    },
    {
     "name": "stdout",
     "output_type": "stream",
     "text": [
      "[100]\tvalid_0's auc: 0.953823\n",
      "[200]\tvalid_0's auc: 0.955498\n",
      "[300]\tvalid_0's auc: 0.956111\n"
     ]
    },
    {
     "data": {
      "text/plain": [
       "LGBMClassifier(bagging_fraction=1.0, bagging_freq=0, boosting_type='dart',\n",
       "               early_stopping_round=30, extra_trees=True, feature_fraction=0.8,\n",
       "               feature_pre_filter=False, force_row_wise=True, lambda_l1=0.0,\n",
       "               lambda_l2=0.0, metric='auc', n_estimators=300,\n",
       "               objective='binary', random_state=1001, verbose=-1)"
      ]
     },
     "execution_count": 21,
     "metadata": {},
     "output_type": "execute_result"
    }
   ],
   "source": [
    "model.fit(\n",
    "    X_train, y_train, \n",
    "    eval_set=[(X_test,y_test)],\n",
    "    callbacks=[log_evaluation(100)]\n",
    ")"
   ]
  },
  {
   "cell_type": "code",
   "execution_count": 22,
   "id": "c504bacb",
   "metadata": {
    "execution": {
     "iopub.execute_input": "2022-07-18T04:29:08.087341Z",
     "iopub.status.busy": "2022-07-18T04:29:08.086716Z",
     "iopub.status.idle": "2022-07-18T04:29:08.306291Z",
     "shell.execute_reply": "2022-07-18T04:29:08.305066Z"
    },
    "papermill": {
     "duration": 0.23375,
     "end_time": "2022-07-18T04:29:08.309253",
     "exception": false,
     "start_time": "2022-07-18T04:29:08.075503",
     "status": "completed"
    },
    "tags": []
   },
   "outputs": [],
   "source": [
    "del X_train, X_test, y_train, y_test, df_train, x, y, missing_df, transformed_df, df_train_enc\n",
    "_ = gc.collect()"
   ]
  },
  {
   "cell_type": "code",
   "execution_count": 23,
   "id": "7fd99ab3",
   "metadata": {
    "execution": {
     "iopub.execute_input": "2022-07-18T04:29:08.331559Z",
     "iopub.status.busy": "2022-07-18T04:29:08.331173Z",
     "iopub.status.idle": "2022-07-18T04:29:49.370972Z",
     "shell.execute_reply": "2022-07-18T04:29:49.369769Z"
    },
    "papermill": {
     "duration": 41.054279,
     "end_time": "2022-07-18T04:29:49.373744",
     "exception": false,
     "start_time": "2022-07-18T04:29:08.319465",
     "status": "completed"
    },
    "tags": []
   },
   "outputs": [],
   "source": [
    "test = pd.read_feather('/kaggle/input/amexfeather/test_data.ftr')\n",
    "test = test.groupby('customer_ID')\n",
    "test = test.tail(1)\n",
    "test.set_index('customer_ID', inplace=True)\n",
    "\n",
    "test.drop(['S_2'], axis=1, inplace=True)\n",
    "test.drop(columns = dropped_columns,axis=1, inplace=True)"
   ]
  },
  {
   "cell_type": "code",
   "execution_count": 24,
   "id": "adbff1b8",
   "metadata": {
    "execution": {
     "iopub.execute_input": "2022-07-18T04:29:49.397547Z",
     "iopub.status.busy": "2022-07-18T04:29:49.395771Z",
     "iopub.status.idle": "2022-07-18T04:29:49.525475Z",
     "shell.execute_reply": "2022-07-18T04:29:49.524678Z"
    },
    "papermill": {
     "duration": 0.144319,
     "end_time": "2022-07-18T04:29:49.528198",
     "exception": false,
     "start_time": "2022-07-18T04:29:49.383879",
     "status": "completed"
    },
    "tags": []
   },
   "outputs": [],
   "source": [
    "_ = gc.collect()"
   ]
  },
  {
   "cell_type": "code",
   "execution_count": 25,
   "id": "5d83e83e",
   "metadata": {
    "execution": {
     "iopub.execute_input": "2022-07-18T04:29:49.550234Z",
     "iopub.status.busy": "2022-07-18T04:29:49.549831Z",
     "iopub.status.idle": "2022-07-18T04:29:54.241091Z",
     "shell.execute_reply": "2022-07-18T04:29:54.239866Z"
    },
    "papermill": {
     "duration": 4.705778,
     "end_time": "2022-07-18T04:29:54.244100",
     "exception": false,
     "start_time": "2022-07-18T04:29:49.538322",
     "status": "completed"
    },
    "tags": []
   },
   "outputs": [],
   "source": [
    "#imputer \n",
    "transformed_test = pd.DataFrame(imputer.transform(test[cat_features]),columns = cat_features)\n",
    "test[cat_features] = transformed_test[cat_features]"
   ]
  },
  {
   "cell_type": "code",
   "execution_count": 26,
   "id": "9d6830d9",
   "metadata": {
    "execution": {
     "iopub.execute_input": "2022-07-18T04:29:54.266144Z",
     "iopub.status.busy": "2022-07-18T04:29:54.265722Z",
     "iopub.status.idle": "2022-07-18T04:29:54.393548Z",
     "shell.execute_reply": "2022-07-18T04:29:54.392154Z"
    },
    "papermill": {
     "duration": 0.141515,
     "end_time": "2022-07-18T04:29:54.395686",
     "exception": false,
     "start_time": "2022-07-18T04:29:54.254171",
     "status": "completed"
    },
    "tags": []
   },
   "outputs": [],
   "source": [
    "_ = gc.collect()"
   ]
  },
  {
   "cell_type": "code",
   "execution_count": 27,
   "id": "bd574ce6",
   "metadata": {
    "execution": {
     "iopub.execute_input": "2022-07-18T04:29:54.418798Z",
     "iopub.status.busy": "2022-07-18T04:29:54.418422Z",
     "iopub.status.idle": "2022-07-18T04:29:56.207691Z",
     "shell.execute_reply": "2022-07-18T04:29:56.206565Z"
    },
    "papermill": {
     "duration": 1.803652,
     "end_time": "2022-07-18T04:29:56.210367",
     "exception": false,
     "start_time": "2022-07-18T04:29:54.406715",
     "status": "completed"
    },
    "tags": []
   },
   "outputs": [],
   "source": [
    "#encodeing\n",
    "df_test_enc = oe.transform(test[cat_features])\n",
    "test[cat_features]=df_test_enc"
   ]
  },
  {
   "cell_type": "code",
   "execution_count": 28,
   "id": "ac0dfc68",
   "metadata": {
    "execution": {
     "iopub.execute_input": "2022-07-18T04:29:56.232852Z",
     "iopub.status.busy": "2022-07-18T04:29:56.232449Z",
     "iopub.status.idle": "2022-07-18T04:29:56.439955Z",
     "shell.execute_reply": "2022-07-18T04:29:56.438738Z"
    },
    "papermill": {
     "duration": 0.221688,
     "end_time": "2022-07-18T04:29:56.442296",
     "exception": false,
     "start_time": "2022-07-18T04:29:56.220608",
     "status": "completed"
    },
    "tags": []
   },
   "outputs": [],
   "source": [
    "del df_test_enc, transformed_test\n",
    "_ = gc.collect()"
   ]
  },
  {
   "cell_type": "code",
   "execution_count": 29,
   "id": "ec629f09",
   "metadata": {
    "execution": {
     "iopub.execute_input": "2022-07-18T04:29:56.465158Z",
     "iopub.status.busy": "2022-07-18T04:29:56.464468Z",
     "iopub.status.idle": "2022-07-18T04:30:10.150218Z",
     "shell.execute_reply": "2022-07-18T04:30:10.149086Z"
    },
    "papermill": {
     "duration": 13.700856,
     "end_time": "2022-07-18T04:30:10.153132",
     "exception": false,
     "start_time": "2022-07-18T04:29:56.452276",
     "status": "completed"
    },
    "tags": []
   },
   "outputs": [],
   "source": [
    "#test.set_index('customer_ID', inplace=True)\n",
    "test[\"prediction\"] = model.predict_proba(test[cat_features + num_features])[:,1]\n",
    "test.head()\n",
    "test[\"prediction\"].to_csv(\"submission.csv\", index=True)"
   ]
  },
  {
   "cell_type": "code",
   "execution_count": null,
   "id": "9c1aa51f",
   "metadata": {
    "papermill": {
     "duration": 0.009567,
     "end_time": "2022-07-18T04:30:10.172811",
     "exception": false,
     "start_time": "2022-07-18T04:30:10.163244",
     "status": "completed"
    },
    "tags": []
   },
   "outputs": [],
   "source": []
  }
 ],
 "metadata": {
  "kernelspec": {
   "display_name": "Python 3",
   "language": "python",
   "name": "python3"
  },
  "language_info": {
   "codemirror_mode": {
    "name": "ipython",
    "version": 3
   },
   "file_extension": ".py",
   "mimetype": "text/x-python",
   "name": "python",
   "nbconvert_exporter": "python",
   "pygments_lexer": "ipython3",
   "version": "3.7.12"
  },
  "papermill": {
   "default_parameters": {},
   "duration": 209.131172,
   "end_time": "2022-07-18T04:30:11.206529",
   "environment_variables": {},
   "exception": null,
   "input_path": "__notebook__.ipynb",
   "output_path": "__notebook__.ipynb",
   "parameters": {},
   "start_time": "2022-07-18T04:26:42.075357",
   "version": "2.3.4"
  }
 },
 "nbformat": 4,
 "nbformat_minor": 5
}
