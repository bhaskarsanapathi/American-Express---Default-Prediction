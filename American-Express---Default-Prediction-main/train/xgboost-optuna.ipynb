{
 "cells": [
  {
   "cell_type": "code",
   "execution_count": 1,
   "id": "2b1de06c",
   "metadata": {
    "execution": {
     "iopub.execute_input": "2022-08-05T11:21:24.959156Z",
     "iopub.status.busy": "2022-08-05T11:21:24.958343Z",
     "iopub.status.idle": "2022-08-05T11:21:29.184452Z",
     "shell.execute_reply": "2022-08-05T11:21:29.183653Z"
    },
    "papermill": {
     "duration": 4.237248,
     "end_time": "2022-08-05T11:21:29.187053",
     "exception": false,
     "start_time": "2022-08-05T11:21:24.949805",
     "status": "completed"
    },
    "tags": []
   },
   "outputs": [],
   "source": [
    "import numpy as np\n",
    "import pandas as pd\n",
    "import matplotlib.pyplot as plt\n",
    "import seaborn as sn\n",
    "\n",
    "import optuna\n",
    "\n",
    "from sklearn.model_selection import train_test_split\n",
    "import sklearn.metrics\n",
    "\n",
    "from xgboost import XGBClassifier\n",
    "\n",
    "import cupy, cudf # GPU libraries\n",
    "import matplotlib.pyplot as plt, gc, os\n",
    "\n",
    "import gc\n",
    "import warnings\n",
    "warnings.filterwarnings('ignore')"
   ]
  },
  {
   "cell_type": "code",
   "execution_count": 2,
   "id": "ed11f2f7",
   "metadata": {
    "execution": {
     "iopub.execute_input": "2022-08-05T11:21:29.198832Z",
     "iopub.status.busy": "2022-08-05T11:21:29.198521Z",
     "iopub.status.idle": "2022-08-05T11:21:51.813935Z",
     "shell.execute_reply": "2022-08-05T11:21:51.812843Z"
    },
    "papermill": {
     "duration": 22.624163,
     "end_time": "2022-08-05T11:21:51.816663",
     "exception": false,
     "start_time": "2022-08-05T11:21:29.192500",
     "status": "completed"
    },
    "tags": []
   },
   "outputs": [
    {
     "name": "stdout",
     "output_type": "stream",
     "text": [
      "Reading train data...\n",
      "shape of data: (5531451, 190)\n"
     ]
    }
   ],
   "source": [
    "def read_train_file(path = '', usecols = None):\n",
    "    # LOAD DATAFRAME\n",
    "    if usecols is not None: df = cudf.read_parquet(path, columns=usecols)\n",
    "    else: df = cudf.read_parquet(path)\n",
    "    # REDUCE DTYPE FOR CUSTOMER AND DATE\n",
    "    df['customer_ID'] = df['customer_ID'].str[-16:].str.hex_to_int().astype('int64')\n",
    "    df.S_2 = cudf.to_datetime( df.S_2 )\n",
    "    # SORT BY CUSTOMER AND DATE (so agg('last') works correctly)\n",
    "    #df = df.sort_values(['customer_ID','S_2'])\n",
    "    #df = df.reset_index(drop=True)\n",
    "    # FILL NAN\n",
    "    df = df.fillna(0) \n",
    "    print('shape of data:', df.shape)\n",
    "    \n",
    "    return df\n",
    "\n",
    "print('Reading train data...')\n",
    "TRAIN_PATH = '../input/amex-data-integer-dtypes-parquet-format/train.parquet'\n",
    "train = read_train_file(path = TRAIN_PATH)"
   ]
  },
  {
   "cell_type": "code",
   "execution_count": 3,
   "id": "248ffde6",
   "metadata": {
    "execution": {
     "iopub.execute_input": "2022-08-05T11:21:51.829723Z",
     "iopub.status.busy": "2022-08-05T11:21:51.829370Z",
     "iopub.status.idle": "2022-08-05T11:21:53.122298Z",
     "shell.execute_reply": "2022-08-05T11:21:53.121287Z"
    },
    "papermill": {
     "duration": 1.301605,
     "end_time": "2022-08-05T11:21:53.124566",
     "exception": false,
     "start_time": "2022-08-05T11:21:51.822961",
     "status": "completed"
    },
    "tags": []
   },
   "outputs": [
    {
     "name": "stdout",
     "output_type": "stream",
     "text": [
      "shape after engineering (458913, 918)\n"
     ]
    }
   ],
   "source": [
    "def process_and_feature_engineer(df):\n",
    "    # FEATURE ENGINEERING FROM \n",
    "    # https://www.kaggle.com/code/huseyincot/amex-agg-data-how-it-created\n",
    "    all_cols = [c for c in list(df.columns) if c not in ['customer_ID','S_2']]\n",
    "    cat_features = [\"B_30\",\"B_38\",\"D_114\",\"D_116\",\"D_117\",\"D_120\",\"D_126\",\"D_63\",\"D_64\",\"D_66\",\"D_68\"]\n",
    "    num_features = [col for col in all_cols if col not in cat_features]\n",
    "\n",
    "    test_num_agg = df.groupby(\"customer_ID\")[num_features].agg(['mean', 'std', 'min', 'max', 'last'])\n",
    "    test_num_agg.columns = ['_'.join(x) for x in test_num_agg.columns]\n",
    "\n",
    "    test_cat_agg = df.groupby(\"customer_ID\")[cat_features].agg(['count', 'last', 'nunique'])\n",
    "    test_cat_agg.columns = ['_'.join(x) for x in test_cat_agg.columns]\n",
    "\n",
    "    df = cudf.concat([test_num_agg, test_cat_agg], axis=1)\n",
    "    del test_num_agg, test_cat_agg\n",
    "    print('shape after engineering', df.shape )\n",
    "    \n",
    "    return df\n",
    "\n",
    "train = process_and_feature_engineer(train)"
   ]
  },
  {
   "cell_type": "code",
   "execution_count": 4,
   "id": "aa2b3a6e",
   "metadata": {
    "execution": {
     "iopub.execute_input": "2022-08-05T11:21:53.136771Z",
     "iopub.status.busy": "2022-08-05T11:21:53.136440Z",
     "iopub.status.idle": "2022-08-05T11:21:54.437062Z",
     "shell.execute_reply": "2022-08-05T11:21:54.435302Z"
    },
    "papermill": {
     "duration": 1.3089,
     "end_time": "2022-08-05T11:21:54.438923",
     "exception": false,
     "start_time": "2022-08-05T11:21:53.130023",
     "status": "completed"
    },
    "tags": []
   },
   "outputs": [
    {
     "name": "stdout",
     "output_type": "stream",
     "text": [
      "There are 918 features!\n"
     ]
    }
   ],
   "source": [
    "# ADD TARGETS\n",
    "targets = cudf.read_csv('../input/amex-default-prediction/train_labels.csv')\n",
    "targets['customer_ID'] = targets['customer_ID'].str[-16:].str.hex_to_int().astype('int64')\n",
    "targets = targets.set_index('customer_ID')\n",
    "train = train.merge(targets, left_index=True, right_index=True, how='left')\n",
    "train.target = train.target.astype('int8')\n",
    "del targets\n",
    "\n",
    "# NEEDED TO MAKE CV DETERMINISTIC (cudf merge above randomly shuffles rows)\n",
    "train = train.sort_index().reset_index()\n",
    "\n",
    "# FEATURES\n",
    "FEATURES = train.columns[1:-1]\n",
    "print(f'There are {len(FEATURES)} features!')"
   ]
  },
  {
   "cell_type": "code",
   "execution_count": 5,
   "id": "f7658f48",
   "metadata": {
    "execution": {
     "iopub.execute_input": "2022-08-05T11:21:54.451084Z",
     "iopub.status.busy": "2022-08-05T11:21:54.450781Z",
     "iopub.status.idle": "2022-08-05T11:21:59.073092Z",
     "shell.execute_reply": "2022-08-05T11:21:59.072268Z"
    },
    "papermill": {
     "duration": 4.631013,
     "end_time": "2022-08-05T11:21:59.075571",
     "exception": false,
     "start_time": "2022-08-05T11:21:54.444558",
     "status": "completed"
    },
    "tags": []
   },
   "outputs": [],
   "source": [
    "train_pd = train.to_pandas()\n",
    "del train\n",
    "_ = gc.collect()"
   ]
  },
  {
   "cell_type": "code",
   "execution_count": 6,
   "id": "65cf0d84",
   "metadata": {
    "execution": {
     "iopub.execute_input": "2022-08-05T11:21:59.088789Z",
     "iopub.status.busy": "2022-08-05T11:21:59.088437Z",
     "iopub.status.idle": "2022-08-05T11:22:01.843292Z",
     "shell.execute_reply": "2022-08-05T11:22:01.842439Z"
    },
    "papermill": {
     "duration": 2.764145,
     "end_time": "2022-08-05T11:22:01.845642",
     "exception": false,
     "start_time": "2022-08-05T11:21:59.081497",
     "status": "completed"
    },
    "tags": []
   },
   "outputs": [],
   "source": [
    "train_df, test_df = train_test_split(train_pd, test_size=0.25, stratify=train_pd['target'])\n",
    "del train_pd\n",
    "_ = gc.collect()"
   ]
  },
  {
   "cell_type": "code",
   "execution_count": 7,
   "id": "e6e9d2dd",
   "metadata": {
    "execution": {
     "iopub.execute_input": "2022-08-05T11:22:01.858211Z",
     "iopub.status.busy": "2022-08-05T11:22:01.857848Z",
     "iopub.status.idle": "2022-08-05T11:22:01.865627Z",
     "shell.execute_reply": "2022-08-05T11:22:01.864646Z"
    },
    "papermill": {
     "duration": 0.017304,
     "end_time": "2022-08-05T11:22:01.868671",
     "exception": false,
     "start_time": "2022-08-05T11:22:01.851367",
     "status": "completed"
    },
    "tags": []
   },
   "outputs": [
    {
     "data": {
      "text/plain": [
       "(344184, 114729)"
      ]
     },
     "execution_count": 7,
     "metadata": {},
     "output_type": "execute_result"
    }
   ],
   "source": [
    "len(train_df),len(test_df)"
   ]
  },
  {
   "cell_type": "code",
   "execution_count": 8,
   "id": "52db2cd6",
   "metadata": {
    "execution": {
     "iopub.execute_input": "2022-08-05T11:22:01.880567Z",
     "iopub.status.busy": "2022-08-05T11:22:01.880290Z",
     "iopub.status.idle": "2022-08-05T11:22:02.530338Z",
     "shell.execute_reply": "2022-08-05T11:22:02.529465Z"
    },
    "papermill": {
     "duration": 0.658555,
     "end_time": "2022-08-05T11:22:02.532664",
     "exception": false,
     "start_time": "2022-08-05T11:22:01.874109",
     "status": "completed"
    },
    "tags": []
   },
   "outputs": [],
   "source": [
    "X_train = train_df.drop(['customer_ID', 'target'], axis=1)\n",
    "X_test = test_df.drop(['customer_ID', 'target'], axis=1)"
   ]
  },
  {
   "cell_type": "code",
   "execution_count": 9,
   "id": "b58a090a",
   "metadata": {
    "execution": {
     "iopub.execute_input": "2022-08-05T11:22:02.545302Z",
     "iopub.status.busy": "2022-08-05T11:22:02.544912Z",
     "iopub.status.idle": "2022-08-05T11:22:02.644395Z",
     "shell.execute_reply": "2022-08-05T11:22:02.643510Z"
    },
    "papermill": {
     "duration": 0.108303,
     "end_time": "2022-08-05T11:22:02.646696",
     "exception": false,
     "start_time": "2022-08-05T11:22:02.538393",
     "status": "completed"
    },
    "tags": []
   },
   "outputs": [
    {
     "data": {
      "text/html": [
       "<div>\n",
       "<style scoped>\n",
       "    .dataframe tbody tr th:only-of-type {\n",
       "        vertical-align: middle;\n",
       "    }\n",
       "\n",
       "    .dataframe tbody tr th {\n",
       "        vertical-align: top;\n",
       "    }\n",
       "\n",
       "    .dataframe thead th {\n",
       "        text-align: right;\n",
       "    }\n",
       "</style>\n",
       "<table border=\"1\" class=\"dataframe\">\n",
       "  <thead>\n",
       "    <tr style=\"text-align: right;\">\n",
       "      <th></th>\n",
       "      <th>P_2_mean</th>\n",
       "      <th>P_2_std</th>\n",
       "      <th>P_2_min</th>\n",
       "      <th>P_2_max</th>\n",
       "      <th>P_2_last</th>\n",
       "      <th>D_39_mean</th>\n",
       "      <th>D_39_std</th>\n",
       "      <th>D_39_min</th>\n",
       "      <th>D_39_max</th>\n",
       "      <th>D_39_last</th>\n",
       "      <th>...</th>\n",
       "      <th>D_63_nunique</th>\n",
       "      <th>D_64_count</th>\n",
       "      <th>D_64_last</th>\n",
       "      <th>D_64_nunique</th>\n",
       "      <th>D_66_count</th>\n",
       "      <th>D_66_last</th>\n",
       "      <th>D_66_nunique</th>\n",
       "      <th>D_68_count</th>\n",
       "      <th>D_68_last</th>\n",
       "      <th>D_68_nunique</th>\n",
       "    </tr>\n",
       "  </thead>\n",
       "  <tbody>\n",
       "    <tr>\n",
       "      <th>266636</th>\n",
       "      <td>0.993001</td>\n",
       "      <td>0.023384</td>\n",
       "      <td>0.928278</td>\n",
       "      <td>1.009935</td>\n",
       "      <td>0.965443</td>\n",
       "      <td>5.461538</td>\n",
       "      <td>4.611858</td>\n",
       "      <td>0</td>\n",
       "      <td>16</td>\n",
       "      <td>16</td>\n",
       "      <td>...</td>\n",
       "      <td>1</td>\n",
       "      <td>13</td>\n",
       "      <td>0</td>\n",
       "      <td>1</td>\n",
       "      <td>13</td>\n",
       "      <td>-1</td>\n",
       "      <td>1</td>\n",
       "      <td>13</td>\n",
       "      <td>6</td>\n",
       "      <td>1</td>\n",
       "    </tr>\n",
       "    <tr>\n",
       "      <th>245443</th>\n",
       "      <td>0.477611</td>\n",
       "      <td>0.041451</td>\n",
       "      <td>0.385553</td>\n",
       "      <td>0.524959</td>\n",
       "      <td>0.524759</td>\n",
       "      <td>0.846154</td>\n",
       "      <td>2.303843</td>\n",
       "      <td>0</td>\n",
       "      <td>8</td>\n",
       "      <td>0</td>\n",
       "      <td>...</td>\n",
       "      <td>1</td>\n",
       "      <td>13</td>\n",
       "      <td>2</td>\n",
       "      <td>1</td>\n",
       "      <td>13</td>\n",
       "      <td>-1</td>\n",
       "      <td>1</td>\n",
       "      <td>13</td>\n",
       "      <td>6</td>\n",
       "      <td>1</td>\n",
       "    </tr>\n",
       "    <tr>\n",
       "      <th>35791</th>\n",
       "      <td>0.510347</td>\n",
       "      <td>0.093577</td>\n",
       "      <td>0.381381</td>\n",
       "      <td>0.595612</td>\n",
       "      <td>0.590560</td>\n",
       "      <td>6.875000</td>\n",
       "      <td>8.871101</td>\n",
       "      <td>0</td>\n",
       "      <td>20</td>\n",
       "      <td>18</td>\n",
       "      <td>...</td>\n",
       "      <td>2</td>\n",
       "      <td>8</td>\n",
       "      <td>3</td>\n",
       "      <td>2</td>\n",
       "      <td>8</td>\n",
       "      <td>-1</td>\n",
       "      <td>1</td>\n",
       "      <td>8</td>\n",
       "      <td>1</td>\n",
       "      <td>2</td>\n",
       "    </tr>\n",
       "    <tr>\n",
       "      <th>248343</th>\n",
       "      <td>0.846316</td>\n",
       "      <td>0.018792</td>\n",
       "      <td>0.803425</td>\n",
       "      <td>0.885623</td>\n",
       "      <td>0.803425</td>\n",
       "      <td>7.384615</td>\n",
       "      <td>6.970634</td>\n",
       "      <td>0</td>\n",
       "      <td>24</td>\n",
       "      <td>8</td>\n",
       "      <td>...</td>\n",
       "      <td>1</td>\n",
       "      <td>13</td>\n",
       "      <td>0</td>\n",
       "      <td>1</td>\n",
       "      <td>13</td>\n",
       "      <td>1</td>\n",
       "      <td>1</td>\n",
       "      <td>13</td>\n",
       "      <td>6</td>\n",
       "      <td>1</td>\n",
       "    </tr>\n",
       "    <tr>\n",
       "      <th>279305</th>\n",
       "      <td>0.745176</td>\n",
       "      <td>0.041000</td>\n",
       "      <td>0.671002</td>\n",
       "      <td>0.803394</td>\n",
       "      <td>0.728161</td>\n",
       "      <td>1.307692</td>\n",
       "      <td>4.150996</td>\n",
       "      <td>0</td>\n",
       "      <td>15</td>\n",
       "      <td>0</td>\n",
       "      <td>...</td>\n",
       "      <td>1</td>\n",
       "      <td>13</td>\n",
       "      <td>0</td>\n",
       "      <td>1</td>\n",
       "      <td>13</td>\n",
       "      <td>-1</td>\n",
       "      <td>1</td>\n",
       "      <td>13</td>\n",
       "      <td>6</td>\n",
       "      <td>1</td>\n",
       "    </tr>\n",
       "    <tr>\n",
       "      <th>...</th>\n",
       "      <td>...</td>\n",
       "      <td>...</td>\n",
       "      <td>...</td>\n",
       "      <td>...</td>\n",
       "      <td>...</td>\n",
       "      <td>...</td>\n",
       "      <td>...</td>\n",
       "      <td>...</td>\n",
       "      <td>...</td>\n",
       "      <td>...</td>\n",
       "      <td>...</td>\n",
       "      <td>...</td>\n",
       "      <td>...</td>\n",
       "      <td>...</td>\n",
       "      <td>...</td>\n",
       "      <td>...</td>\n",
       "      <td>...</td>\n",
       "      <td>...</td>\n",
       "      <td>...</td>\n",
       "      <td>...</td>\n",
       "      <td>...</td>\n",
       "    </tr>\n",
       "    <tr>\n",
       "      <th>274558</th>\n",
       "      <td>0.868150</td>\n",
       "      <td>0.014132</td>\n",
       "      <td>0.849938</td>\n",
       "      <td>0.893494</td>\n",
       "      <td>0.866048</td>\n",
       "      <td>0.153846</td>\n",
       "      <td>0.375534</td>\n",
       "      <td>0</td>\n",
       "      <td>1</td>\n",
       "      <td>0</td>\n",
       "      <td>...</td>\n",
       "      <td>1</td>\n",
       "      <td>13</td>\n",
       "      <td>0</td>\n",
       "      <td>1</td>\n",
       "      <td>13</td>\n",
       "      <td>-1</td>\n",
       "      <td>1</td>\n",
       "      <td>13</td>\n",
       "      <td>6</td>\n",
       "      <td>1</td>\n",
       "    </tr>\n",
       "    <tr>\n",
       "      <th>133954</th>\n",
       "      <td>0.456201</td>\n",
       "      <td>0.041485</td>\n",
       "      <td>0.386068</td>\n",
       "      <td>0.503760</td>\n",
       "      <td>0.464785</td>\n",
       "      <td>0.000000</td>\n",
       "      <td>0.000000</td>\n",
       "      <td>0</td>\n",
       "      <td>0</td>\n",
       "      <td>0</td>\n",
       "      <td>...</td>\n",
       "      <td>2</td>\n",
       "      <td>13</td>\n",
       "      <td>3</td>\n",
       "      <td>1</td>\n",
       "      <td>13</td>\n",
       "      <td>-1</td>\n",
       "      <td>1</td>\n",
       "      <td>13</td>\n",
       "      <td>6</td>\n",
       "      <td>1</td>\n",
       "    </tr>\n",
       "    <tr>\n",
       "      <th>443708</th>\n",
       "      <td>0.663713</td>\n",
       "      <td>0.040872</td>\n",
       "      <td>0.587852</td>\n",
       "      <td>0.718465</td>\n",
       "      <td>0.718465</td>\n",
       "      <td>5.076923</td>\n",
       "      <td>6.291019</td>\n",
       "      <td>0</td>\n",
       "      <td>18</td>\n",
       "      <td>12</td>\n",
       "      <td>...</td>\n",
       "      <td>1</td>\n",
       "      <td>13</td>\n",
       "      <td>3</td>\n",
       "      <td>2</td>\n",
       "      <td>13</td>\n",
       "      <td>1</td>\n",
       "      <td>1</td>\n",
       "      <td>13</td>\n",
       "      <td>3</td>\n",
       "      <td>2</td>\n",
       "    </tr>\n",
       "    <tr>\n",
       "      <th>310320</th>\n",
       "      <td>0.719256</td>\n",
       "      <td>0.023928</td>\n",
       "      <td>0.689424</td>\n",
       "      <td>0.753959</td>\n",
       "      <td>0.692723</td>\n",
       "      <td>11.384615</td>\n",
       "      <td>14.268488</td>\n",
       "      <td>0</td>\n",
       "      <td>42</td>\n",
       "      <td>42</td>\n",
       "      <td>...</td>\n",
       "      <td>1</td>\n",
       "      <td>13</td>\n",
       "      <td>0</td>\n",
       "      <td>1</td>\n",
       "      <td>13</td>\n",
       "      <td>-1</td>\n",
       "      <td>1</td>\n",
       "      <td>13</td>\n",
       "      <td>6</td>\n",
       "      <td>1</td>\n",
       "    </tr>\n",
       "    <tr>\n",
       "      <th>23931</th>\n",
       "      <td>0.456489</td>\n",
       "      <td>0.030277</td>\n",
       "      <td>0.410891</td>\n",
       "      <td>0.506970</td>\n",
       "      <td>0.495309</td>\n",
       "      <td>0.076923</td>\n",
       "      <td>0.277350</td>\n",
       "      <td>0</td>\n",
       "      <td>1</td>\n",
       "      <td>0</td>\n",
       "      <td>...</td>\n",
       "      <td>1</td>\n",
       "      <td>13</td>\n",
       "      <td>3</td>\n",
       "      <td>1</td>\n",
       "      <td>13</td>\n",
       "      <td>-1</td>\n",
       "      <td>1</td>\n",
       "      <td>13</td>\n",
       "      <td>4</td>\n",
       "      <td>1</td>\n",
       "    </tr>\n",
       "  </tbody>\n",
       "</table>\n",
       "<p>344184 rows × 918 columns</p>\n",
       "</div>"
      ],
      "text/plain": [
       "        P_2_mean   P_2_std   P_2_min   P_2_max  P_2_last  D_39_mean  \\\n",
       "266636  0.993001  0.023384  0.928278  1.009935  0.965443   5.461538   \n",
       "245443  0.477611  0.041451  0.385553  0.524959  0.524759   0.846154   \n",
       "35791   0.510347  0.093577  0.381381  0.595612  0.590560   6.875000   \n",
       "248343  0.846316  0.018792  0.803425  0.885623  0.803425   7.384615   \n",
       "279305  0.745176  0.041000  0.671002  0.803394  0.728161   1.307692   \n",
       "...          ...       ...       ...       ...       ...        ...   \n",
       "274558  0.868150  0.014132  0.849938  0.893494  0.866048   0.153846   \n",
       "133954  0.456201  0.041485  0.386068  0.503760  0.464785   0.000000   \n",
       "443708  0.663713  0.040872  0.587852  0.718465  0.718465   5.076923   \n",
       "310320  0.719256  0.023928  0.689424  0.753959  0.692723  11.384615   \n",
       "23931   0.456489  0.030277  0.410891  0.506970  0.495309   0.076923   \n",
       "\n",
       "         D_39_std  D_39_min  D_39_max  D_39_last  ...  D_63_nunique  \\\n",
       "266636   4.611858         0        16         16  ...             1   \n",
       "245443   2.303843         0         8          0  ...             1   \n",
       "35791    8.871101         0        20         18  ...             2   \n",
       "248343   6.970634         0        24          8  ...             1   \n",
       "279305   4.150996         0        15          0  ...             1   \n",
       "...           ...       ...       ...        ...  ...           ...   \n",
       "274558   0.375534         0         1          0  ...             1   \n",
       "133954   0.000000         0         0          0  ...             2   \n",
       "443708   6.291019         0        18         12  ...             1   \n",
       "310320  14.268488         0        42         42  ...             1   \n",
       "23931    0.277350         0         1          0  ...             1   \n",
       "\n",
       "        D_64_count  D_64_last  D_64_nunique  D_66_count  D_66_last  \\\n",
       "266636          13          0             1          13         -1   \n",
       "245443          13          2             1          13         -1   \n",
       "35791            8          3             2           8         -1   \n",
       "248343          13          0             1          13          1   \n",
       "279305          13          0             1          13         -1   \n",
       "...            ...        ...           ...         ...        ...   \n",
       "274558          13          0             1          13         -1   \n",
       "133954          13          3             1          13         -1   \n",
       "443708          13          3             2          13          1   \n",
       "310320          13          0             1          13         -1   \n",
       "23931           13          3             1          13         -1   \n",
       "\n",
       "        D_66_nunique  D_68_count  D_68_last  D_68_nunique  \n",
       "266636             1          13          6             1  \n",
       "245443             1          13          6             1  \n",
       "35791              1           8          1             2  \n",
       "248343             1          13          6             1  \n",
       "279305             1          13          6             1  \n",
       "...              ...         ...        ...           ...  \n",
       "274558             1          13          6             1  \n",
       "133954             1          13          6             1  \n",
       "443708             1          13          3             2  \n",
       "310320             1          13          6             1  \n",
       "23931              1          13          4             1  \n",
       "\n",
       "[344184 rows x 918 columns]"
      ]
     },
     "execution_count": 9,
     "metadata": {},
     "output_type": "execute_result"
    }
   ],
   "source": [
    "X_train"
   ]
  },
  {
   "cell_type": "code",
   "execution_count": 10,
   "id": "87c27005",
   "metadata": {
    "execution": {
     "iopub.execute_input": "2022-08-05T11:22:02.660864Z",
     "iopub.status.busy": "2022-08-05T11:22:02.660513Z",
     "iopub.status.idle": "2022-08-05T11:22:02.664751Z",
     "shell.execute_reply": "2022-08-05T11:22:02.663777Z"
    },
    "papermill": {
     "duration": 0.014376,
     "end_time": "2022-08-05T11:22:02.667210",
     "exception": false,
     "start_time": "2022-08-05T11:22:02.652834",
     "status": "completed"
    },
    "tags": []
   },
   "outputs": [],
   "source": [
    "y_train = train_df['target']\n",
    "y_test = test_df['target']"
   ]
  },
  {
   "cell_type": "code",
   "execution_count": 11,
   "id": "69181f68",
   "metadata": {
    "execution": {
     "iopub.execute_input": "2022-08-05T11:22:02.680757Z",
     "iopub.status.busy": "2022-08-05T11:22:02.680459Z",
     "iopub.status.idle": "2022-08-05T11:22:02.687118Z",
     "shell.execute_reply": "2022-08-05T11:22:02.686248Z"
    },
    "papermill": {
     "duration": 0.014833,
     "end_time": "2022-08-05T11:22:02.688763",
     "exception": false,
     "start_time": "2022-08-05T11:22:02.673930",
     "status": "completed"
    },
    "tags": []
   },
   "outputs": [
    {
     "data": {
      "text/plain": [
       "266636    0\n",
       "245443    0\n",
       "35791     0\n",
       "248343    0\n",
       "279305    0\n",
       "         ..\n",
       "274558    0\n",
       "133954    0\n",
       "443708    0\n",
       "310320    0\n",
       "23931     1\n",
       "Name: target, Length: 344184, dtype: int8"
      ]
     },
     "execution_count": 11,
     "metadata": {},
     "output_type": "execute_result"
    }
   ],
   "source": [
    "y_train"
   ]
  },
  {
   "cell_type": "code",
   "execution_count": 12,
   "id": "0a142c93",
   "metadata": {
    "execution": {
     "iopub.execute_input": "2022-08-05T11:22:02.701732Z",
     "iopub.status.busy": "2022-08-05T11:22:02.701054Z",
     "iopub.status.idle": "2022-08-05T11:22:02.840391Z",
     "shell.execute_reply": "2022-08-05T11:22:02.839484Z"
    },
    "papermill": {
     "duration": 0.147747,
     "end_time": "2022-08-05T11:22:02.842211",
     "exception": false,
     "start_time": "2022-08-05T11:22:02.694464",
     "status": "completed"
    },
    "tags": []
   },
   "outputs": [],
   "source": [
    "del train_df, test_df\n",
    "_ = gc.collect()"
   ]
  },
  {
   "cell_type": "code",
   "execution_count": 13,
   "id": "11423a88",
   "metadata": {
    "execution": {
     "iopub.execute_input": "2022-08-05T11:22:02.856170Z",
     "iopub.status.busy": "2022-08-05T11:22:02.855333Z",
     "iopub.status.idle": "2022-08-05T11:22:02.863963Z",
     "shell.execute_reply": "2022-08-05T11:22:02.863167Z"
    },
    "papermill": {
     "duration": 0.017128,
     "end_time": "2022-08-05T11:22:02.865726",
     "exception": false,
     "start_time": "2022-08-05T11:22:02.848598",
     "status": "completed"
    },
    "tags": []
   },
   "outputs": [],
   "source": [
    "# optuna\n",
    "\n",
    "def objective(trial):\n",
    "    \n",
    "    param = {\n",
    "        'booster':'gbtree',\n",
    "        'tree_method':'gpu_hist', \n",
    "        \"objective\": \"binary:logistic\",\n",
    "        'lambda': trial.suggest_loguniform(\n",
    "            'lambda', 1e-3, 10.0\n",
    "        ),\n",
    "        'alpha': trial.suggest_loguniform(\n",
    "            'alpha', 1e-3, 10.0\n",
    "        ),\n",
    "        'colsample_bytree': trial.suggest_float(\n",
    "            'colsample_bytree', 0.5,1,step=0.1\n",
    "        ),\n",
    "        'subsample': trial.suggest_float(\n",
    "            'subsample', 0.5,1,step=0.1\n",
    "        ),\n",
    "        'learning_rate': trial.suggest_float(\n",
    "            'learning_rate', 0.001,0.05,step=0.001\n",
    "        ),\n",
    "        'n_estimators': trial.suggest_int(\n",
    "            \"n_estimators\", 80,1000,10\n",
    "        ),\n",
    "        'max_depth': trial.suggest_int(\n",
    "            'max_depth', 2,10,1\n",
    "        ),\n",
    "        'random_state': 99,\n",
    "        'min_child_weight': trial.suggest_int(\n",
    "            'min_child_weight', 1,256,1\n",
    "        ),\n",
    "    }\n",
    "    \n",
    "    model = XGBClassifier(**param, enable_categorical = True) \n",
    "    \n",
    "    model.fit(X_train,y_train)\n",
    "    \n",
    "    preds = pd.DataFrame(model.predict(X_test))\n",
    "    \n",
    "    accuracy = sklearn.metrics.accuracy_score(pd.DataFrame(y_test.reset_index()['target']),preds)\n",
    "    \n",
    "    return accuracy\n"
   ]
  },
  {
   "cell_type": "code",
   "execution_count": 14,
   "id": "a63b2e99",
   "metadata": {
    "execution": {
     "iopub.execute_input": "2022-08-05T11:22:02.878445Z",
     "iopub.status.busy": "2022-08-05T11:22:02.878168Z",
     "iopub.status.idle": "2022-08-05T13:22:54.541442Z",
     "shell.execute_reply": "2022-08-05T13:22:54.540672Z"
    },
    "papermill": {
     "duration": 7251.684753,
     "end_time": "2022-08-05T13:22:54.556342",
     "exception": false,
     "start_time": "2022-08-05T11:22:02.871589",
     "status": "completed"
    },
    "tags": []
   },
   "outputs": [
    {
     "name": "stderr",
     "output_type": "stream",
     "text": [
      "\u001b[32m[I 2022-08-05 11:22:02,880]\u001b[0m A new study created in memory with name: no-name-b11cdb4a-de3b-4083-97ac-cc2f7d339aff\u001b[0m\n",
      "\u001b[32m[I 2022-08-05 11:22:46,470]\u001b[0m Trial 0 finished with value: 0.9024047973921153 and parameters: {'lambda': 0.0024661416749729944, 'alpha': 3.104098599282743, 'colsample_bytree': 0.7, 'subsample': 0.9, 'learning_rate': 0.049, 'n_estimators': 290, 'max_depth': 8, 'min_child_weight': 101}. Best is trial 0 with value: 0.9024047973921153.\u001b[0m\n",
      "\u001b[32m[I 2022-08-05 11:24:00,296]\u001b[0m Trial 1 finished with value: 0.9007574370908837 and parameters: {'lambda': 0.009285449215382179, 'alpha': 9.582805283914348, 'colsample_bytree': 0.5, 'subsample': 0.5, 'learning_rate': 0.012, 'n_estimators': 840, 'max_depth': 6, 'min_child_weight': 143}. Best is trial 0 with value: 0.9024047973921153.\u001b[0m\n",
      "\u001b[32m[I 2022-08-05 11:24:43,674]\u001b[0m Trial 2 finished with value: 0.9003390598715233 and parameters: {'lambda': 0.0012640944492645165, 'alpha': 0.11476324991786277, 'colsample_bytree': 0.9, 'subsample': 0.6, 'learning_rate': 0.023, 'n_estimators': 440, 'max_depth': 5, 'min_child_weight': 161}. Best is trial 0 with value: 0.9024047973921153.\u001b[0m\n",
      "\u001b[32m[I 2022-08-05 11:26:00,208]\u001b[0m Trial 3 finished with value: 0.9008184504353738 and parameters: {'lambda': 2.0577877003767604, 'alpha': 1.4074894771716093, 'colsample_bytree': 1.0, 'subsample': 0.6, 'learning_rate': 0.014000000000000002, 'n_estimators': 560, 'max_depth': 9, 'min_child_weight': 147}. Best is trial 0 with value: 0.9024047973921153.\u001b[0m\n",
      "\u001b[32m[I 2022-08-05 11:27:05,603]\u001b[0m Trial 4 finished with value: 0.903049795605296 and parameters: {'lambda': 0.0028325846704233253, 'alpha': 0.05808256776599417, 'colsample_bytree': 0.8, 'subsample': 0.5, 'learning_rate': 0.039, 'n_estimators': 550, 'max_depth': 9, 'min_child_weight': 230}. Best is trial 4 with value: 0.903049795605296.\u001b[0m\n",
      "\u001b[32m[I 2022-08-05 11:28:15,305]\u001b[0m Trial 5 finished with value: 0.9038342528915967 and parameters: {'lambda': 7.888126994918261, 'alpha': 0.5201213121255898, 'colsample_bytree': 0.6, 'subsample': 0.6, 'learning_rate': 0.046, 'n_estimators': 820, 'max_depth': 6, 'min_child_weight': 158}. Best is trial 5 with value: 0.9038342528915967.\u001b[0m\n",
      "\u001b[32m[I 2022-08-05 11:29:08,265]\u001b[0m Trial 6 finished with value: 0.8902457094544536 and parameters: {'lambda': 0.07967316261116111, 'alpha': 0.03031818454035316, 'colsample_bytree': 1.0, 'subsample': 1.0, 'learning_rate': 0.005, 'n_estimators': 640, 'max_depth': 4, 'min_child_weight': 243}. Best is trial 5 with value: 0.9038342528915967.\u001b[0m\n",
      "\u001b[32m[I 2022-08-05 11:30:06,811]\u001b[0m Trial 7 finished with value: 0.9002431817587533 and parameters: {'lambda': 7.507840512606829, 'alpha': 0.33340347593701375, 'colsample_bytree': 0.8, 'subsample': 0.9, 'learning_rate': 0.017, 'n_estimators': 400, 'max_depth': 9, 'min_child_weight': 228}. Best is trial 5 with value: 0.9038342528915967.\u001b[0m\n",
      "\u001b[32m[I 2022-08-05 11:30:31,104]\u001b[0m Trial 8 finished with value: 0.8816864088417052 and parameters: {'lambda': 0.1429166421736624, 'alpha': 0.005875299553029452, 'colsample_bytree': 1.0, 'subsample': 0.8, 'learning_rate': 0.007, 'n_estimators': 170, 'max_depth': 4, 'min_child_weight': 66}. Best is trial 5 with value: 0.9038342528915967.\u001b[0m\n",
      "\u001b[32m[I 2022-08-05 11:31:28,341]\u001b[0m Trial 9 finished with value: 0.9025704050414455 and parameters: {'lambda': 0.0014485630404820309, 'alpha': 1.2666224489631823, 'colsample_bytree': 0.5, 'subsample': 0.7, 'learning_rate': 0.028, 'n_estimators': 700, 'max_depth': 5, 'min_child_weight': 162}. Best is trial 5 with value: 0.9038342528915967.\u001b[0m\n",
      "\u001b[32m[I 2022-08-05 11:32:18,785]\u001b[0m Trial 10 finished with value: 0.9014460162644145 and parameters: {'lambda': 0.6684277452035701, 'alpha': 0.001234657689314794, 'colsample_bytree': 0.6, 'subsample': 0.7, 'learning_rate': 0.049, 'n_estimators': 1000, 'max_depth': 2, 'min_child_weight': 1}. Best is trial 5 with value: 0.9038342528915967.\u001b[0m\n",
      "\u001b[32m[I 2022-08-05 11:33:35,158]\u001b[0m Trial 11 finished with value: 0.9034768890167264 and parameters: {'lambda': 0.03579841146115463, 'alpha': 0.030734482558522912, 'colsample_bytree': 0.7, 'subsample': 0.5, 'learning_rate': 0.037000000000000005, 'n_estimators': 810, 'max_depth': 7, 'min_child_weight': 199}. Best is trial 5 with value: 0.9038342528915967.\u001b[0m\n",
      "\u001b[32m[I 2022-08-05 11:34:50,644]\u001b[0m Trial 12 finished with value: 0.9034594566325863 and parameters: {'lambda': 0.028313878897092762, 'alpha': 0.010717296056652784, 'colsample_bytree': 0.7, 'subsample': 0.6, 'learning_rate': 0.034, 'n_estimators': 800, 'max_depth': 7, 'min_child_weight': 194}. Best is trial 5 with value: 0.9038342528915967.\u001b[0m\n",
      "\u001b[32m[I 2022-08-05 11:36:18,527]\u001b[0m Trial 13 finished with value: 0.9039998605409268 and parameters: {'lambda': 0.4427974121227428, 'alpha': 0.2675562244701216, 'colsample_bytree': 0.6, 'subsample': 0.5, 'learning_rate': 0.04, 'n_estimators': 980, 'max_depth': 7, 'min_child_weight': 195}. Best is trial 13 with value: 0.9039998605409268.\u001b[0m\n",
      "\u001b[32m[I 2022-08-05 11:37:49,549]\u001b[0m Trial 14 finished with value: 0.9037209423946866 and parameters: {'lambda': 8.402091879693234, 'alpha': 0.2654959256935178, 'colsample_bytree': 0.6, 'subsample': 0.6, 'learning_rate': 0.044000000000000004, 'n_estimators': 1000, 'max_depth': 7, 'min_child_weight': 82}. Best is trial 13 with value: 0.9039998605409268.\u001b[0m\n",
      "\u001b[32m[I 2022-08-05 11:39:25,929]\u001b[0m Trial 15 finished with value: 0.903189254678416 and parameters: {'lambda': 0.5888322121702084, 'alpha': 0.26703210216026974, 'colsample_bytree': 0.6, 'subsample': 0.5, 'learning_rate': 0.030000000000000002, 'n_estimators': 870, 'max_depth': 10, 'min_child_weight': 198}. Best is trial 13 with value: 0.9039998605409268.\u001b[0m\n",
      "\u001b[32m[I 2022-08-05 11:40:12,978]\u001b[0m Trial 16 finished with value: 0.9009230447402139 and parameters: {'lambda': 1.8267419525354431, 'alpha': 0.7765029435087625, 'colsample_bytree': 0.5, 'subsample': 0.7, 'learning_rate': 0.042, 'n_estimators': 900, 'max_depth': 2, 'min_child_weight': 115}. Best is trial 13 with value: 0.9039998605409268.\u001b[0m\n",
      "\u001b[32m[I 2022-08-05 11:41:16,223]\u001b[0m Trial 17 finished with value: 0.9031631061022061 and parameters: {'lambda': 0.39627046167819924, 'alpha': 5.817953949683284, 'colsample_bytree': 0.6, 'subsample': 0.6, 'learning_rate': 0.05, 'n_estimators': 710, 'max_depth': 6, 'min_child_weight': 178}. Best is trial 13 with value: 0.9039998605409268.\u001b[0m\n",
      "\u001b[32m[I 2022-08-05 11:42:19,892]\u001b[0m Trial 18 finished with value: 0.9025965536176556 and parameters: {'lambda': 2.497216409963614, 'alpha': 0.6553706164188954, 'colsample_bytree': 0.6, 'subsample': 0.8, 'learning_rate': 0.022000000000000002, 'n_estimators': 940, 'max_depth': 4, 'min_child_weight': 33}. Best is trial 13 with value: 0.9039998605409268.\u001b[0m\n",
      "\u001b[32m[I 2022-08-05 11:43:26,042]\u001b[0m Trial 19 finished with value: 0.9039214148122968 and parameters: {'lambda': 0.31694886191072746, 'alpha': 0.0846763844844518, 'colsample_bytree': 0.8, 'subsample': 0.5, 'learning_rate': 0.044000000000000004, 'n_estimators': 760, 'max_depth': 6, 'min_child_weight': 130}. Best is trial 13 with value: 0.9039998605409268.\u001b[0m\n",
      "\u001b[32m[I 2022-08-05 11:44:47,955]\u001b[0m Trial 20 finished with value: 0.9033025651753263 and parameters: {'lambda': 0.19252973478726543, 'alpha': 0.11772424717507869, 'colsample_bytree': 0.9, 'subsample': 0.5, 'learning_rate': 0.033, 'n_estimators': 750, 'max_depth': 8, 'min_child_weight': 122}. Best is trial 13 with value: 0.9039998605409268.\u001b[0m\n",
      "\u001b[32m[I 2022-08-05 11:45:46,835]\u001b[0m Trial 21 finished with value: 0.9033461461356762 and parameters: {'lambda': 1.0181258292428488, 'alpha': 0.06423959261356785, 'colsample_bytree': 0.8, 'subsample': 0.5, 'learning_rate': 0.044000000000000004, 'n_estimators': 630, 'max_depth': 6, 'min_child_weight': 136}. Best is trial 13 with value: 0.9039998605409268.\u001b[0m\n",
      "\u001b[32m[I 2022-08-05 11:46:56,781]\u001b[0m Trial 22 finished with value: 0.9036250642819165 and parameters: {'lambda': 0.2587763290820186, 'alpha': 0.19869702628517366, 'colsample_bytree': 0.7, 'subsample': 0.6, 'learning_rate': 0.041, 'n_estimators': 930, 'max_depth': 5, 'min_child_weight': 176}. Best is trial 13 with value: 0.9039998605409268.\u001b[0m\n",
      "\u001b[32m[I 2022-08-05 11:48:14,212]\u001b[0m Trial 23 finished with value: 0.9036337804739866 and parameters: {'lambda': 4.004516217935475, 'alpha': 0.5831525894624887, 'colsample_bytree': 0.9, 'subsample': 0.5, 'learning_rate': 0.045, 'n_estimators': 780, 'max_depth': 7, 'min_child_weight': 83}. Best is trial 13 with value: 0.9039998605409268.\u001b[0m\n",
      "\u001b[32m[I 2022-08-05 11:49:44,846]\u001b[0m Trial 24 finished with value: 0.9036250642819165 and parameters: {'lambda': 0.053335622167027634, 'alpha': 2.1516997571654697, 'colsample_bytree': 0.8, 'subsample': 0.6, 'learning_rate': 0.036000000000000004, 'n_estimators': 890, 'max_depth': 8, 'min_child_weight': 211}. Best is trial 13 with value: 0.9039998605409268.\u001b[0m\n",
      "\u001b[32m[I 2022-08-05 11:50:38,537]\u001b[0m Trial 25 finished with value: 0.903110808949786 and parameters: {'lambda': 0.015031439032501611, 'alpha': 0.03055495538112069, 'colsample_bytree': 0.7, 'subsample': 0.7, 'learning_rate': 0.046, 'n_estimators': 660, 'max_depth': 5, 'min_child_weight': 173}. Best is trial 13 with value: 0.9039998605409268.\u001b[0m\n",
      "\u001b[32m[I 2022-08-05 11:51:57,075]\u001b[0m Trial 26 finished with value: 0.9036860776264066 and parameters: {'lambda': 1.0995902971454865, 'alpha': 0.009658009168560883, 'colsample_bytree': 0.5, 'subsample': 0.5, 'learning_rate': 0.039, 'n_estimators': 960, 'max_depth': 6, 'min_child_weight': 107}. Best is trial 13 with value: 0.9039998605409268.\u001b[0m\n",
      "\u001b[32m[I 2022-08-05 11:52:48,881]\u001b[0m Trial 27 finished with value: 0.9013675705357843 and parameters: {'lambda': 4.029316087286976, 'alpha': 0.4673942662000131, 'colsample_bytree': 0.6, 'subsample': 0.6, 'learning_rate': 0.031, 'n_estimators': 850, 'max_depth': 3, 'min_child_weight': 255}. Best is trial 13 with value: 0.9039998605409268.\u001b[0m\n",
      "\u001b[32m[I 2022-08-05 11:53:40,836]\u001b[0m Trial 28 finished with value: 0.9034856052087964 and parameters: {'lambda': 0.11062043516418803, 'alpha': 0.06761148938021978, 'colsample_bytree': 0.7, 'subsample': 0.5, 'learning_rate': 0.046, 'n_estimators': 480, 'max_depth': 7, 'min_child_weight': 154}. Best is trial 13 with value: 0.9039998605409268.\u001b[0m\n",
      "\u001b[32m[I 2022-08-05 11:54:05,179]\u001b[0m Trial 29 finished with value: 0.8983692004637014 and parameters: {'lambda': 0.3040404403804708, 'alpha': 3.722493392776787, 'colsample_bytree': 0.7, 'subsample': 0.8, 'learning_rate': 0.05, 'n_estimators': 90, 'max_depth': 8, 'min_child_weight': 129}. Best is trial 13 with value: 0.9039998605409268.\u001b[0m\n",
      "\u001b[32m[I 2022-08-05 11:54:52,434]\u001b[0m Trial 30 finished with value: 0.901010206660914 and parameters: {'lambda': 0.005757834560170937, 'alpha': 1.0704033251105158, 'colsample_bytree': 0.8, 'subsample': 1.0, 'learning_rate': 0.026000000000000002, 'n_estimators': 290, 'max_depth': 8, 'min_child_weight': 94}. Best is trial 13 with value: 0.9039998605409268.\u001b[0m\n",
      "\u001b[32m[I 2022-08-05 11:56:24,162]\u001b[0m Trial 31 finished with value: 0.9043310758395872 and parameters: {'lambda': 8.212715002119015, 'alpha': 0.3588508007814575, 'colsample_bytree': 0.6, 'subsample': 0.6, 'learning_rate': 0.042, 'n_estimators': 1000, 'max_depth': 7, 'min_child_weight': 67}. Best is trial 31 with value: 0.9043310758395872.\u001b[0m\n",
      "\u001b[32m[I 2022-08-05 11:57:42,238]\u001b[0m Trial 32 finished with value: 0.9032764165991162 and parameters: {'lambda': 5.107387961994469, 'alpha': 0.15956718062166866, 'colsample_bytree': 0.5, 'subsample': 0.6, 'learning_rate': 0.041, 'n_estimators': 960, 'max_depth': 6, 'min_child_weight': 63}. Best is trial 31 with value: 0.9043310758395872.\u001b[0m\n",
      "\u001b[32m[I 2022-08-05 11:58:54,070]\u001b[0m Trial 33 finished with value: 0.9036424966660566 and parameters: {'lambda': 1.4800213285318293, 'alpha': 0.36022356202147215, 'colsample_bytree': 0.6, 'subsample': 0.5, 'learning_rate': 0.047, 'n_estimators': 840, 'max_depth': 6, 'min_child_weight': 141}. Best is trial 31 with value: 0.9043310758395872.\u001b[0m\n",
      "\u001b[32m[I 2022-08-05 12:00:05,636]\u001b[0m Trial 34 finished with value: 0.9034420242484463 and parameters: {'lambda': 9.859452622069986, 'alpha': 2.2509143807082053, 'colsample_bytree': 0.5, 'subsample': 0.7, 'learning_rate': 0.037000000000000005, 'n_estimators': 740, 'max_depth': 7, 'min_child_weight': 97}. Best is trial 31 with value: 0.9043310758395872.\u001b[0m\n",
      "\u001b[32m[I 2022-08-05 12:01:20,618]\u001b[0m Trial 35 finished with value: 0.9035117537850064 and parameters: {'lambda': 0.5709122216730649, 'alpha': 0.12965136310364375, 'colsample_bytree': 0.9, 'subsample': 0.6, 'learning_rate': 0.041, 'n_estimators': 1000, 'max_depth': 5, 'min_child_weight': 36}. Best is trial 31 with value: 0.9043310758395872.\u001b[0m\n",
      "\u001b[32m[I 2022-08-05 12:02:34,908]\u001b[0m Trial 36 finished with value: 0.9035291861691465 and parameters: {'lambda': 2.729668499771924, 'alpha': 0.09297478773001742, 'colsample_bytree': 0.6, 'subsample': 0.5, 'learning_rate': 0.048, 'n_estimators': 900, 'max_depth': 6, 'min_child_weight': 164}. Best is trial 31 with value: 0.9043310758395872.\u001b[0m\n",
      "\u001b[32m[I 2022-08-05 12:04:13,312]\u001b[0m Trial 37 finished with value: 0.8892782121346826 and parameters: {'lambda': 5.642070165089964, 'alpha': 0.043374633531509055, 'colsample_bytree': 0.7, 'subsample': 0.5, 'learning_rate': 0.001, 'n_estimators': 820, 'max_depth': 9, 'min_child_weight': 221}. Best is trial 31 with value: 0.9043310758395872.\u001b[0m\n",
      "\u001b[32m[I 2022-08-05 12:05:21,168]\u001b[0m Trial 38 finished with value: 0.9038691176598768 and parameters: {'lambda': 1.0189267218021565, 'alpha': 0.2067211400458251, 'colsample_bytree': 0.8, 'subsample': 0.9, 'learning_rate': 0.043000000000000003, 'n_estimators': 610, 'max_depth': 8, 'min_child_weight': 184}. Best is trial 31 with value: 0.9043310758395872.\u001b[0m\n",
      "\u001b[32m[I 2022-08-05 12:06:37,721]\u001b[0m Trial 39 finished with value: 0.9029800660687359 and parameters: {'lambda': 0.9474268311379099, 'alpha': 0.2239774814526903, 'colsample_bytree': 0.8, 'subsample': 0.9, 'learning_rate': 0.035, 'n_estimators': 590, 'max_depth': 10, 'min_child_weight': 188}. Best is trial 31 with value: 0.9043310758395872.\u001b[0m\n",
      "\u001b[32m[I 2022-08-05 12:07:58,851]\u001b[0m Trial 40 finished with value: 0.9024570945445354 and parameters: {'lambda': 0.41302626619659866, 'alpha': 0.018553167244021798, 'colsample_bytree': 0.9, 'subsample': 0.9, 'learning_rate': 0.021, 'n_estimators': 480, 'max_depth': 9, 'min_child_weight': 40}. Best is trial 31 with value: 0.9043310758395872.\u001b[0m\n",
      "\u001b[32m[I 2022-08-05 12:09:05,661]\u001b[0m Trial 41 finished with value: 0.9030236470290859 and parameters: {'lambda': 0.18225410435460024, 'alpha': 0.42675239576453894, 'colsample_bytree': 0.8, 'subsample': 1.0, 'learning_rate': 0.043000000000000003, 'n_estimators': 690, 'max_depth': 7, 'min_child_weight': 212}. Best is trial 31 with value: 0.9043310758395872.\u001b[0m\n",
      "\u001b[32m[I 2022-08-05 12:10:14,364]\u001b[0m Trial 42 finished with value: 0.903102092757716 and parameters: {'lambda': 3.018280133488993, 'alpha': 0.8501899661349661, 'colsample_bytree': 0.8, 'subsample': 0.8, 'learning_rate': 0.04, 'n_estimators': 610, 'max_depth': 8, 'min_child_weight': 149}. Best is trial 31 with value: 0.9043310758395872.\u001b[0m\n",
      "\u001b[32m[I 2022-08-05 12:11:08,072]\u001b[0m Trial 43 finished with value: 0.9037819557391766 and parameters: {'lambda': 0.08898958042674877, 'alpha': 0.09217005632165307, 'colsample_bytree': 0.6, 'subsample': 0.7, 'learning_rate': 0.047, 'n_estimators': 510, 'max_depth': 7, 'min_child_weight': 161}. Best is trial 31 with value: 0.9043310758395872.\u001b[0m\n",
      "\u001b[32m[I 2022-08-05 12:12:29,284]\u001b[0m Trial 44 finished with value: 0.903049795605296 and parameters: {'lambda': 1.3619571211555987, 'alpha': 1.3578862793956628, 'colsample_bytree': 0.7, 'subsample': 0.6, 'learning_rate': 0.039, 'n_estimators': 780, 'max_depth': 8, 'min_child_weight': 186}. Best is trial 31 with value: 0.9043310758395872.\u001b[0m\n",
      "\u001b[32m[I 2022-08-05 12:13:18,236]\u001b[0m Trial 45 finished with value: 0.9032938489832562 and parameters: {'lambda': 6.776033222244906, 'alpha': 0.16956811830675053, 'colsample_bytree': 0.6, 'subsample': 0.8, 'learning_rate': 0.038, 'n_estimators': 560, 'max_depth': 5, 'min_child_weight': 11}. Best is trial 31 with value: 0.9043310758395872.\u001b[0m\n",
      "\u001b[32m[I 2022-08-05 12:14:06,754]\u001b[0m Trial 46 finished with value: 0.9025268240810954 and parameters: {'lambda': 0.7510005611452658, 'alpha': 0.3151309726981009, 'colsample_bytree': 0.5, 'subsample': 0.9, 'learning_rate': 0.043000000000000003, 'n_estimators': 360, 'max_depth': 9, 'min_child_weight': 238}. Best is trial 31 with value: 0.9043310758395872.\u001b[0m\n",
      "\u001b[32m[I 2022-08-05 12:15:17,619]\u001b[0m Trial 47 finished with value: 0.9012629762309442 and parameters: {'lambda': 1.934002430611311, 'alpha': 0.0032739397510651654, 'colsample_bytree': 0.9, 'subsample': 0.6, 'learning_rate': 0.014000000000000002, 'n_estimators': 740, 'max_depth': 6, 'min_child_weight': 133}. Best is trial 31 with value: 0.9043310758395872.\u001b[0m\n",
      "\u001b[32m[I 2022-08-05 12:16:43,596]\u001b[0m Trial 48 finished with value: 0.9036686452422665 and parameters: {'lambda': 0.37820950779554824, 'alpha': 0.0446870928312613, 'colsample_bytree': 0.7, 'subsample': 0.5, 'learning_rate': 0.033, 'n_estimators': 930, 'max_depth': 7, 'min_child_weight': 118}. Best is trial 31 with value: 0.9043310758395872.\u001b[0m\n",
      "\u001b[32m[I 2022-08-05 12:17:37,558]\u001b[0m Trial 49 finished with value: 0.9033374299436062 and parameters: {'lambda': 0.05459792295599885, 'alpha': 0.4668788466543862, 'colsample_bytree': 0.6, 'subsample': 0.7, 'learning_rate': 0.048, 'n_estimators': 660, 'max_depth': 5, 'min_child_weight': 206}. Best is trial 31 with value: 0.9043310758395872.\u001b[0m\n",
      "\u001b[32m[I 2022-08-05 12:18:51,636]\u001b[0m Trial 50 finished with value: 0.9037906719312466 and parameters: {'lambda': 3.8550382636224794, 'alpha': 0.2247476826102234, 'colsample_bytree': 1.0, 'subsample': 1.0, 'learning_rate': 0.044000000000000004, 'n_estimators': 880, 'max_depth': 6, 'min_child_weight': 169}. Best is trial 31 with value: 0.9043310758395872.\u001b[0m\n",
      "\u001b[32m[I 2022-08-05 12:20:05,013]\u001b[0m Trial 51 finished with value: 0.9037296585867566 and parameters: {'lambda': 3.5545603276646114, 'alpha': 0.24280744431008125, 'colsample_bytree': 1.0, 'subsample': 1.0, 'learning_rate': 0.045, 'n_estimators': 860, 'max_depth': 6, 'min_child_weight': 167}. Best is trial 31 with value: 0.9043310758395872.\u001b[0m\n",
      "\u001b[32m[I 2022-08-05 12:21:07,944]\u001b[0m Trial 52 finished with value: 0.903084660373576 and parameters: {'lambda': 5.312583094898558, 'alpha': 0.14506291957189738, 'colsample_bytree': 1.0, 'subsample': 1.0, 'learning_rate': 0.044000000000000004, 'n_estimators': 950, 'max_depth': 4, 'min_child_weight': 184}. Best is trial 31 with value: 0.9043310758395872.\u001b[0m\n",
      "\u001b[32m[I 2022-08-05 12:22:39,815]\u001b[0m Trial 53 finished with value: 0.9037558071629667 and parameters: {'lambda': 8.945612901916736, 'alpha': 0.0845500346558745, 'colsample_bytree': 1.0, 'subsample': 0.9, 'learning_rate': 0.042, 'n_estimators': 1000, 'max_depth': 7, 'min_child_weight': 150}. Best is trial 31 with value: 0.9043310758395872.\u001b[0m\n",
      "\u001b[32m[I 2022-08-05 12:23:55,391]\u001b[0m Trial 54 finished with value: 0.9035030375929364 and parameters: {'lambda': 2.0548907956003895, 'alpha': 0.6468070217446766, 'colsample_bytree': 0.9, 'subsample': 1.0, 'learning_rate': 0.038, 'n_estimators': 900, 'max_depth': 6, 'min_child_weight': 197}. Best is trial 31 with value: 0.9043310758395872.\u001b[0m\n",
      "\u001b[32m[I 2022-08-05 12:25:10,234]\u001b[0m Trial 55 finished with value: 0.9040260091171369 and parameters: {'lambda': 0.5693432511145278, 'alpha': 0.3141884005877674, 'colsample_bytree': 0.6, 'subsample': 0.9, 'learning_rate': 0.05, 'n_estimators': 820, 'max_depth': 7, 'min_child_weight': 157}. Best is trial 31 with value: 0.9043310758395872.\u001b[0m\n",
      "\u001b[32m[I 2022-08-05 12:26:22,392]\u001b[0m Trial 56 finished with value: 0.9039562795805768 and parameters: {'lambda': 0.25708209251612135, 'alpha': 0.9373555542610552, 'colsample_bytree': 0.6, 'subsample': 0.9, 'learning_rate': 0.05, 'n_estimators': 780, 'max_depth': 7, 'min_child_weight': 154}. Best is trial 31 with value: 0.9043310758395872.\u001b[0m\n",
      "\u001b[32m[I 2022-08-05 12:27:42,252]\u001b[0m Trial 57 finished with value: 0.9036599290501965 and parameters: {'lambda': 0.22506270638684464, 'alpha': 1.9312755709167737, 'colsample_bytree': 0.6, 'subsample': 0.9, 'learning_rate': 0.047, 'n_estimators': 780, 'max_depth': 8, 'min_child_weight': 142}. Best is trial 31 with value: 0.9043310758395872.\u001b[0m\n",
      "\u001b[32m[I 2022-08-05 12:28:51,201]\u001b[0m Trial 58 finished with value: 0.9037209423946866 and parameters: {'lambda': 0.12206332730779938, 'alpha': 0.9300474252110137, 'colsample_bytree': 0.6, 'subsample': 0.9, 'learning_rate': 0.048, 'n_estimators': 710, 'max_depth': 7, 'min_child_weight': 127}. Best is trial 31 with value: 0.9043310758395872.\u001b[0m\n",
      "\u001b[32m[I 2022-08-05 12:30:13,732]\u001b[0m Trial 59 finished with value: 0.9036337804739866 and parameters: {'lambda': 0.490396187207149, 'alpha': 0.39526229719167627, 'colsample_bytree': 0.5, 'subsample': 0.9, 'learning_rate': 0.05, 'n_estimators': 830, 'max_depth': 8, 'min_child_weight': 108}. Best is trial 31 with value: 0.9043310758395872.\u001b[0m\n",
      "\u001b[32m[I 2022-08-05 12:31:50,770]\u001b[0m Trial 60 finished with value: 0.9037122262026166 and parameters: {'lambda': 0.30543678901407456, 'alpha': 9.773926656030588, 'colsample_bytree': 0.7, 'subsample': 0.8, 'learning_rate': 0.05, 'n_estimators': 970, 'max_depth': 7, 'min_child_weight': 63}. Best is trial 31 with value: 0.9043310758395872.\u001b[0m\n",
      "\u001b[32m[I 2022-08-05 12:33:04,780]\u001b[0m Trial 61 finished with value: 0.9039737119647169 and parameters: {'lambda': 0.7046769517172069, 'alpha': 0.5727902038652565, 'colsample_bytree': 0.6, 'subsample': 0.9, 'learning_rate': 0.045, 'n_estimators': 800, 'max_depth': 7, 'min_child_weight': 156}. Best is trial 31 with value: 0.9043310758395872.\u001b[0m\n",
      "\u001b[32m[I 2022-08-05 12:34:15,995]\u001b[0m Trial 62 finished with value: 0.9039911443488569 and parameters: {'lambda': 0.7742620100355855, 'alpha': 0.3078849362008158, 'colsample_bytree': 0.6, 'subsample': 0.9, 'learning_rate': 0.045, 'n_estimators': 760, 'max_depth': 7, 'min_child_weight': 155}. Best is trial 31 with value: 0.9043310758395872.\u001b[0m\n",
      "\u001b[32m[I 2022-08-05 12:35:27,157]\u001b[0m Trial 63 finished with value: 0.9036250642819165 and parameters: {'lambda': 0.6367578634133387, 'alpha': 0.6981996181579174, 'colsample_bytree': 0.6, 'subsample': 0.9, 'learning_rate': 0.046, 'n_estimators': 760, 'max_depth': 7, 'min_child_weight': 155}. Best is trial 31 with value: 0.9043310758395872.\u001b[0m\n",
      "\u001b[32m[I 2022-08-05 12:36:33,586]\u001b[0m Trial 64 finished with value: 0.9035727671294964 and parameters: {'lambda': 0.1595171944268057, 'alpha': 0.5764124468474677, 'colsample_bytree': 0.6, 'subsample': 0.9, 'learning_rate': 0.045, 'n_estimators': 680, 'max_depth': 7, 'min_child_weight': 138}. Best is trial 31 with value: 0.9043310758395872.\u001b[0m\n",
      "\u001b[32m[I 2022-08-05 12:37:42,337]\u001b[0m Trial 65 finished with value: 0.904139319614047 and parameters: {'lambda': 0.7636967246356007, 'alpha': 0.3070059504304067, 'colsample_bytree': 0.6, 'subsample': 0.8, 'learning_rate': 0.05, 'n_estimators': 720, 'max_depth': 7, 'min_child_weight': 123}. Best is trial 31 with value: 0.9043310758395872.\u001b[0m\n",
      "\u001b[32m[I 2022-08-05 12:38:57,342]\u001b[0m Trial 66 finished with value: 0.9036686452422665 and parameters: {'lambda': 0.8092215712992166, 'alpha': 0.2962874320859931, 'colsample_bytree': 0.6, 'subsample': 0.8, 'learning_rate': 0.049, 'n_estimators': 800, 'max_depth': 7, 'min_child_weight': 82}. Best is trial 31 with value: 0.9043310758395872.\u001b[0m\n",
      "\u001b[32m[I 2022-08-05 12:40:05,796]\u001b[0m Trial 67 finished with value: 0.9035466185532864 and parameters: {'lambda': 1.3632364636101548, 'alpha': 0.32433047843899127, 'colsample_bytree': 0.6, 'subsample': 0.8, 'learning_rate': 0.049, 'n_estimators': 720, 'max_depth': 7, 'min_child_weight': 175}. Best is trial 31 with value: 0.9043310758395872.\u001b[0m\n",
      "\u001b[32m[I 2022-08-05 12:41:34,466]\u001b[0m Trial 68 finished with value: 0.9034420242484463 and parameters: {'lambda': 0.5403800123782049, 'alpha': 1.1876617765214648, 'colsample_bytree': 0.5, 'subsample': 0.8, 'learning_rate': 0.048, 'n_estimators': 920, 'max_depth': 8, 'min_child_weight': 160}. Best is trial 31 with value: 0.9043310758395872.\u001b[0m\n",
      "\u001b[32m[I 2022-08-05 12:42:56,241]\u001b[0m Trial 69 finished with value: 0.9036250642819165 and parameters: {'lambda': 0.21764535891674958, 'alpha': 1.5902484672073096, 'colsample_bytree': 0.6, 'subsample': 0.9, 'learning_rate': 0.046, 'n_estimators': 860, 'max_depth': 7, 'min_child_weight': 51}. Best is trial 31 with value: 0.9043310758395872.\u001b[0m\n",
      "\u001b[32m[I 2022-08-05 12:44:18,257]\u001b[0m Trial 70 finished with value: 0.9039737119647169 and parameters: {'lambda': 0.06054907115721265, 'alpha': 0.5134658852286662, 'colsample_bytree': 0.6, 'subsample': 0.9, 'learning_rate': 0.05, 'n_estimators': 800, 'max_depth': 8, 'min_child_weight': 89}. Best is trial 31 with value: 0.9043310758395872.\u001b[0m\n",
      "\u001b[32m[I 2022-08-05 12:45:43,742]\u001b[0m Trial 71 finished with value: 0.9038168205074567 and parameters: {'lambda': 0.023877994448245312, 'alpha': 3.7121515367602145, 'colsample_bytree': 0.6, 'subsample': 0.9, 'learning_rate': 0.05, 'n_estimators': 810, 'max_depth': 8, 'min_child_weight': 92}. Best is trial 31 with value: 0.9043310758395872.\u001b[0m\n",
      "\u001b[32m[I 2022-08-05 12:46:58,081]\u001b[0m Trial 72 finished with value: 0.904104454845767 and parameters: {'lambda': 0.06003485156199953, 'alpha': 0.48587270208296857, 'colsample_bytree': 0.6, 'subsample': 0.9, 'learning_rate': 0.047, 'n_estimators': 790, 'max_depth': 7, 'min_child_weight': 72}. Best is trial 31 with value: 0.9043310758395872.\u001b[0m\n",
      "\u001b[32m[I 2022-08-05 12:48:01,754]\u001b[0m Trial 73 finished with value: 0.9035640509374264 and parameters: {'lambda': 0.06567846044613528, 'alpha': 0.49985164827284684, 'colsample_bytree': 0.5, 'subsample': 0.9, 'learning_rate': 0.042, 'n_estimators': 730, 'max_depth': 6, 'min_child_weight': 72}. Best is trial 31 with value: 0.9043310758395872.\u001b[0m\n",
      "\u001b[32m[I 2022-08-05 12:49:31,422]\u001b[0m Trial 74 finished with value: 0.9038691176598768 and parameters: {'lambda': 0.028112662270730397, 'alpha': 0.3712972004731478, 'colsample_bytree': 0.6, 'subsample': 0.8, 'learning_rate': 0.047, 'n_estimators': 850, 'max_depth': 8, 'min_child_weight': 54}. Best is trial 31 with value: 0.9043310758395872.\u001b[0m\n",
      "\u001b[32m[I 2022-08-05 12:50:59,115]\u001b[0m Trial 75 finished with value: 0.9038255366995267 and parameters: {'lambda': 0.040161130967878524, 'alpha': 0.17314902929783094, 'colsample_bytree': 0.6, 'subsample': 0.9, 'learning_rate': 0.04, 'n_estimators': 980, 'max_depth': 7, 'min_child_weight': 78}. Best is trial 31 with value: 0.9043310758395872.\u001b[0m\n",
      "\u001b[32m[I 2022-08-05 12:52:21,342]\u001b[0m Trial 76 finished with value: 0.9037035100105466 and parameters: {'lambda': 0.011384998460950858, 'alpha': 0.12280070904400416, 'colsample_bytree': 0.6, 'subsample': 0.9, 'learning_rate': 0.045, 'n_estimators': 800, 'max_depth': 8, 'min_child_weight': 107}. Best is trial 31 with value: 0.9043310758395872.\u001b[0m\n",
      "\u001b[32m[I 2022-08-05 12:53:40,904]\u001b[0m Trial 77 finished with value: 0.9033461461356762 and parameters: {'lambda': 0.07248235573989631, 'alpha': 0.2794525983851158, 'colsample_bytree': 0.7, 'subsample': 0.9, 'learning_rate': 0.048, 'n_estimators': 660, 'max_depth': 9, 'min_child_weight': 87}. Best is trial 31 with value: 0.9043310758395872.\u001b[0m\n",
      "\u001b[32m[I 2022-08-05 12:55:01,498]\u001b[0m Trial 78 finished with value: 0.9034943214008664 and parameters: {'lambda': 0.04095989527752133, 'alpha': 0.7659403057301641, 'colsample_bytree': 0.5, 'subsample': 0.8, 'learning_rate': 0.045, 'n_estimators': 880, 'max_depth': 7, 'min_child_weight': 73}. Best is trial 31 with value: 0.9043310758395872.\u001b[0m\n",
      "\u001b[32m[I 2022-08-05 12:56:27,865]\u001b[0m Trial 79 finished with value: 0.9006615589781136 and parameters: {'lambda': 0.143721626724535, 'alpha': 0.5401368324591089, 'colsample_bytree': 0.6, 'subsample': 1.0, 'learning_rate': 0.009000000000000001, 'n_estimators': 920, 'max_depth': 6, 'min_child_weight': 56}. Best is trial 31 with value: 0.9043310758395872.\u001b[0m\n",
      "\u001b[32m[I 2022-08-05 12:57:48,246]\u001b[0m Trial 80 finished with value: 0.9036773614343365 and parameters: {'lambda': 0.4274489286423438, 'alpha': 0.40491579056161026, 'colsample_bytree': 0.6, 'subsample': 0.7, 'learning_rate': 0.041, 'n_estimators': 760, 'max_depth': 8, 'min_child_weight': 102}. Best is trial 31 with value: 0.9043310758395872.\u001b[0m\n",
      "\u001b[32m[I 2022-08-05 12:59:04,754]\u001b[0m Trial 81 finished with value: 0.9040172929250669 and parameters: {'lambda': 0.10761435930203787, 'alpha': 1.0813160643181436, 'colsample_bytree': 0.6, 'subsample': 0.9, 'learning_rate': 0.049, 'n_estimators': 830, 'max_depth': 7, 'min_child_weight': 122}. Best is trial 31 with value: 0.9043310758395872.\u001b[0m\n",
      "\u001b[32m[I 2022-08-05 13:00:21,253]\u001b[0m Trial 82 finished with value: 0.9036250642819165 and parameters: {'lambda': 0.09355431754943563, 'alpha': 1.031655851876475, 'colsample_bytree': 0.6, 'subsample': 0.9, 'learning_rate': 0.049, 'n_estimators': 830, 'max_depth': 7, 'min_child_weight': 124}. Best is trial 31 with value: 0.9043310758395872.\u001b[0m\n",
      "\u001b[32m[I 2022-08-05 13:01:39,097]\u001b[0m Trial 83 finished with value: 0.9039388471964368 and parameters: {'lambda': 0.022084271807281567, 'alpha': 1.529072111708837, 'colsample_bytree': 0.6, 'subsample': 0.9, 'learning_rate': 0.047, 'n_estimators': 830, 'max_depth': 7, 'min_child_weight': 115}. Best is trial 31 with value: 0.9043310758395872.\u001b[0m\n",
      "\u001b[32m[I 2022-08-05 13:03:02,991]\u001b[0m Trial 84 finished with value: 0.9037819557391766 and parameters: {'lambda': 0.055519335793865386, 'alpha': 0.19248091091003688, 'colsample_bytree': 0.6, 'subsample': 0.9, 'learning_rate': 0.046, 'n_estimators': 780, 'max_depth': 8, 'min_child_weight': 44}. Best is trial 31 with value: 0.9043310758395872.\u001b[0m\n",
      "\u001b[32m[I 2022-08-05 13:04:29,044]\u001b[0m Trial 85 finished with value: 0.9042787786871671 and parameters: {'lambda': 0.7759888066176268, 'alpha': 0.7709656438172583, 'colsample_bytree': 0.6, 'subsample': 0.9, 'learning_rate': 0.043000000000000003, 'n_estimators': 910, 'max_depth': 7, 'min_child_weight': 20}. Best is trial 31 with value: 0.9043310758395872.\u001b[0m\n",
      "\u001b[32m[I 2022-08-05 13:05:54,292]\u001b[0m Trial 86 finished with value: 0.904069590077487 and parameters: {'lambda': 0.004165329744434133, 'alpha': 5.990628510553587, 'colsample_bytree': 0.7, 'subsample': 0.8, 'learning_rate': 0.043000000000000003, 'n_estimators': 940, 'max_depth': 6, 'min_child_weight': 4}. Best is trial 31 with value: 0.9043310758395872.\u001b[0m\n",
      "\u001b[32m[I 2022-08-05 13:07:17,415]\u001b[0m Trial 87 finished with value: 0.9037993881233167 and parameters: {'lambda': 0.003867336132743242, 'alpha': 7.054414052216212, 'colsample_bytree': 0.7, 'subsample': 0.8, 'learning_rate': 0.043000000000000003, 'n_estimators': 910, 'max_depth': 6, 'min_child_weight': 12}. Best is trial 31 with value: 0.9043310758395872.\u001b[0m\n",
      "\u001b[32m[I 2022-08-05 13:08:43,138]\u001b[0m Trial 88 finished with value: 0.9037558071629667 and parameters: {'lambda': 0.0025073169192088873, 'alpha': 5.348711735163737, 'colsample_bytree': 0.7, 'subsample': 0.8, 'learning_rate': 0.042, 'n_estimators': 980, 'max_depth': 6, 'min_child_weight': 14}. Best is trial 31 with value: 0.9043310758395872.\u001b[0m\n",
      "\u001b[32m[I 2022-08-05 13:10:14,446]\u001b[0m Trial 89 finished with value: 0.9036773614343365 and parameters: {'lambda': 0.0014804707410629662, 'alpha': 2.974756038909835, 'colsample_bytree': 0.5, 'subsample': 0.7, 'learning_rate': 0.04, 'n_estimators': 950, 'max_depth': 7, 'min_child_weight': 26}. Best is trial 31 with value: 0.9043310758395872.\u001b[0m\n",
      "\u001b[32m[I 2022-08-05 13:11:33,985]\u001b[0m Trial 90 finished with value: 0.903067227989436 and parameters: {'lambda': 1.6726826203603729, 'alpha': 0.24919526938856648, 'colsample_bytree': 0.7, 'subsample': 0.8, 'learning_rate': 0.019000000000000003, 'n_estimators': 880, 'max_depth': 6, 'min_child_weight': 28}. Best is trial 31 with value: 0.9043310758395872.\u001b[0m\n",
      "\u001b[32m[I 2022-08-05 13:13:10,862]\u001b[0m Trial 91 finished with value: 0.9037209423946866 and parameters: {'lambda': 1.092218320644194, 'alpha': 0.7004440080463548, 'colsample_bytree': 0.6, 'subsample': 0.9, 'learning_rate': 0.028, 'n_estimators': 940, 'max_depth': 7, 'min_child_weight': 2}. Best is trial 31 with value: 0.9043310758395872.\u001b[0m\n",
      "\u001b[32m[I 2022-08-05 13:14:31,563]\u001b[0m Trial 92 finished with value: 0.9040347253092069 and parameters: {'lambda': 0.015024151340660185, 'alpha': 0.34597120859689945, 'colsample_bytree': 0.6, 'subsample': 0.9, 'learning_rate': 0.049, 'n_estimators': 1000, 'max_depth': 6, 'min_child_weight': 23}. Best is trial 31 with value: 0.9043310758395872.\u001b[0m\n",
      "\u001b[32m[I 2022-08-05 13:15:52,946]\u001b[0m Trial 93 finished with value: 0.9037383747788267 and parameters: {'lambda': 0.013109060411046494, 'alpha': 0.32070470021628444, 'colsample_bytree': 0.6, 'subsample': 0.8, 'learning_rate': 0.044000000000000004, 'n_estimators': 1000, 'max_depth': 6, 'min_child_weight': 16}. Best is trial 31 with value: 0.9043310758395872.\u001b[0m\n",
      "\u001b[32m[I 2022-08-05 13:17:10,551]\u001b[0m Trial 94 finished with value: 0.904104454845767 and parameters: {'lambda': 0.007142049173747387, 'alpha': 0.14572374282971906, 'colsample_bytree': 0.6, 'subsample': 1.0, 'learning_rate': 0.048, 'n_estimators': 970, 'max_depth': 6, 'min_child_weight': 23}. Best is trial 31 with value: 0.9043310758395872.\u001b[0m\n",
      "\u001b[32m[I 2022-08-05 13:18:20,934]\u001b[0m Trial 95 finished with value: 0.9041829005743971 and parameters: {'lambda': 0.007243304837429276, 'alpha': 0.10748357439319811, 'colsample_bytree': 0.6, 'subsample': 1.0, 'learning_rate': 0.048, 'n_estimators': 970, 'max_depth': 5, 'min_child_weight': 22}. Best is trial 31 with value: 0.9043310758395872.\u001b[0m\n",
      "\u001b[32m[I 2022-08-05 13:19:23,274]\u001b[0m Trial 96 finished with value: 0.9040085767329968 and parameters: {'lambda': 0.006578264169065707, 'alpha': 0.13611846779391962, 'colsample_bytree': 0.6, 'subsample': 1.0, 'learning_rate': 0.048, 'n_estimators': 960, 'max_depth': 4, 'min_child_weight': 28}. Best is trial 31 with value: 0.9043310758395872.\u001b[0m\n",
      "\u001b[32m[I 2022-08-05 13:20:33,997]\u001b[0m Trial 97 finished with value: 0.904165468190257 and parameters: {'lambda': 0.0048399115472183615, 'alpha': 0.18405526880325826, 'colsample_bytree': 0.5, 'subsample': 1.0, 'learning_rate': 0.049, 'n_estimators': 980, 'max_depth': 5, 'min_child_weight': 6}. Best is trial 31 with value: 0.9043310758395872.\u001b[0m\n",
      "\u001b[32m[I 2022-08-05 13:21:44,165]\u001b[0m Trial 98 finished with value: 0.9042090491506071 and parameters: {'lambda': 0.003891577351103215, 'alpha': 0.07017963701602702, 'colsample_bytree': 0.5, 'subsample': 1.0, 'learning_rate': 0.047, 'n_estimators': 990, 'max_depth': 5, 'min_child_weight': 21}. Best is trial 31 with value: 0.9043310758395872.\u001b[0m\n",
      "\u001b[32m[I 2022-08-05 13:22:54,531]\u001b[0m Trial 99 finished with value: 0.9039039824281568 and parameters: {'lambda': 0.004003974886050577, 'alpha': 0.07227984445567302, 'colsample_bytree': 0.5, 'subsample': 1.0, 'learning_rate': 0.046, 'n_estimators': 980, 'max_depth': 5, 'min_child_weight': 18}. Best is trial 31 with value: 0.9043310758395872.\u001b[0m\n"
     ]
    },
    {
     "name": "stdout",
     "output_type": "stream",
     "text": [
      "CPU times: user 2h 16min 18s, sys: 3min 23s, total: 2h 19min 42s\n",
      "Wall time: 2h 51s\n"
     ]
    }
   ],
   "source": [
    "%%time\n",
    "study = optuna.create_study(direction='maximize')\n",
    "study.optimize(objective, n_trials= 100)"
   ]
  },
  {
   "cell_type": "code",
   "execution_count": 15,
   "id": "ca54cd27",
   "metadata": {
    "execution": {
     "iopub.execute_input": "2022-08-05T13:22:54.594338Z",
     "iopub.status.busy": "2022-08-05T13:22:54.593850Z",
     "iopub.status.idle": "2022-08-05T13:22:54.611603Z",
     "shell.execute_reply": "2022-08-05T13:22:54.610870Z"
    },
    "papermill": {
     "duration": 0.040331,
     "end_time": "2022-08-05T13:22:54.614044",
     "exception": false,
     "start_time": "2022-08-05T13:22:54.573713",
     "status": "completed"
    },
    "tags": []
   },
   "outputs": [],
   "source": [
    "best_params = study.best_trial.params\n",
    "\"\"\"\n",
    "best_params = {\"alpha\":0.5420861968603762, \"base_score\":0.5, \"booster1\":'gbtree',\n",
    "              \"callbacks\":None, \"colsample_bylevel\":1, \"colsample_bynode\":1,\n",
    "              \"colsample_bytree\":0.7, \"early_stopping_rounds\":None,\n",
    "              \"enable_categorical\":True, \"eval_metric\":None, \"gamma\":0, \"gpu_id\":0,\n",
    "              \"grow_policy\":'depthwise', \"importance_type\":None,\n",
    "              \"interaction_constraints\":'', \"lambda\": 0.6898903764598321,\n",
    "              \"learning_rate\":0.030000000000000002, \"max_bin\":256,\n",
    "              \"max_cat_to_onehot\":4, \"max_delta_step\":0, \"max_depth\":9, \"max_leaves\":0,\n",
    "              \"min_child_weight\":72, \"missing\":np.nan, \"monotone_constraints\":'()',\n",
    "              \"n_estimators\":1000, \"n_jobs\":0, \"num_parallel_tree\":1,\n",
    "              \"predictor\":'auto', \"random_state\":0, \"enable_categorical\":True}\n",
    "\"\"\"\n",
    "best_params['tree_method'] = 'gpu_hist'\n",
    "best_params['booster'] = 'gbtree'\n"
   ]
  },
  {
   "cell_type": "code",
   "execution_count": 16,
   "id": "0ff7406d",
   "metadata": {
    "execution": {
     "iopub.execute_input": "2022-08-05T13:22:54.650118Z",
     "iopub.status.busy": "2022-08-05T13:22:54.649761Z",
     "iopub.status.idle": "2022-08-05T13:22:54.654139Z",
     "shell.execute_reply": "2022-08-05T13:22:54.653365Z"
    },
    "papermill": {
     "duration": 0.025813,
     "end_time": "2022-08-05T13:22:54.657634",
     "exception": false,
     "start_time": "2022-08-05T13:22:54.631821",
     "status": "completed"
    },
    "tags": []
   },
   "outputs": [
    {
     "name": "stdout",
     "output_type": "stream",
     "text": [
      "{'lambda': 8.212715002119015, 'alpha': 0.3588508007814575, 'colsample_bytree': 0.6, 'subsample': 0.6, 'learning_rate': 0.042, 'n_estimators': 1000, 'max_depth': 7, 'min_child_weight': 67, 'tree_method': 'gpu_hist', 'booster': 'gbtree'}\n"
     ]
    }
   ],
   "source": [
    "print(best_params)"
   ]
  },
  {
   "cell_type": "code",
   "execution_count": 17,
   "id": "ddc53c4a",
   "metadata": {
    "execution": {
     "iopub.execute_input": "2022-08-05T13:22:54.694585Z",
     "iopub.status.busy": "2022-08-05T13:22:54.694189Z",
     "iopub.status.idle": "2022-08-05T13:22:54.699174Z",
     "shell.execute_reply": "2022-08-05T13:22:54.697980Z"
    },
    "papermill": {
     "duration": 0.027332,
     "end_time": "2022-08-05T13:22:54.702435",
     "exception": false,
     "start_time": "2022-08-05T13:22:54.675103",
     "status": "completed"
    },
    "tags": []
   },
   "outputs": [],
   "source": [
    "final_model = XGBClassifier(**best_params,enable_categorical = True)"
   ]
  },
  {
   "cell_type": "code",
   "execution_count": 18,
   "id": "ee7ed66c",
   "metadata": {
    "execution": {
     "iopub.execute_input": "2022-08-05T13:22:54.746384Z",
     "iopub.status.busy": "2022-08-05T13:22:54.746026Z",
     "iopub.status.idle": "2022-08-05T13:24:21.014327Z",
     "shell.execute_reply": "2022-08-05T13:24:21.013535Z"
    },
    "papermill": {
     "duration": 86.295645,
     "end_time": "2022-08-05T13:24:21.025036",
     "exception": false,
     "start_time": "2022-08-05T13:22:54.729391",
     "status": "completed"
    },
    "tags": []
   },
   "outputs": [
    {
     "data": {
      "text/plain": [
       "XGBClassifier(alpha=0.3588508007814575, base_score=0.5, booster='gbtree',\n",
       "              callbacks=None, colsample_bylevel=1, colsample_bynode=1,\n",
       "              colsample_bytree=0.6, early_stopping_rounds=None,\n",
       "              enable_categorical=True, eval_metric=None, gamma=0, gpu_id=0,\n",
       "              grow_policy='depthwise', importance_type=None,\n",
       "              interaction_constraints='', lambda=8.212715002119015,\n",
       "              learning_rate=0.042, max_bin=256, max_cat_to_onehot=4,\n",
       "              max_delta_step=0, max_depth=7, max_leaves=0, min_child_weight=67,\n",
       "              missing=nan, monotone_constraints='()', n_estimators=1000,\n",
       "              n_jobs=0, num_parallel_tree=1, predictor='auto', random_state=0, ...)"
      ]
     },
     "execution_count": 18,
     "metadata": {},
     "output_type": "execute_result"
    }
   ],
   "source": [
    "final_model.fit(X_train,y_train)"
   ]
  },
  {
   "cell_type": "code",
   "execution_count": 19,
   "id": "5104fde3",
   "metadata": {
    "execution": {
     "iopub.execute_input": "2022-08-05T13:24:21.049875Z",
     "iopub.status.busy": "2022-08-05T13:24:21.049452Z",
     "iopub.status.idle": "2022-08-05T13:24:21.190256Z",
     "shell.execute_reply": "2022-08-05T13:24:21.189417Z"
    },
    "papermill": {
     "duration": 0.154929,
     "end_time": "2022-08-05T13:24:21.192092",
     "exception": false,
     "start_time": "2022-08-05T13:24:21.037163",
     "status": "completed"
    },
    "tags": []
   },
   "outputs": [],
   "source": [
    "del X_train,X_test,y_train,y_test\n",
    "_ = gc.collect()"
   ]
  },
  {
   "cell_type": "code",
   "execution_count": 20,
   "id": "1ed50fc1",
   "metadata": {
    "execution": {
     "iopub.execute_input": "2022-08-05T13:24:21.216651Z",
     "iopub.status.busy": "2022-08-05T13:24:21.215964Z",
     "iopub.status.idle": "2022-08-05T13:25:03.971173Z",
     "shell.execute_reply": "2022-08-05T13:25:03.970316Z"
    },
    "papermill": {
     "duration": 42.780627,
     "end_time": "2022-08-05T13:25:03.984287",
     "exception": false,
     "start_time": "2022-08-05T13:24:21.203660",
     "status": "completed"
    },
    "tags": []
   },
   "outputs": [
    {
     "name": "stdout",
     "output_type": "stream",
     "text": [
      "Reading test data...\n",
      "shape of data: (11363762, 190)\n"
     ]
    }
   ],
   "source": [
    "def read_test_file(path = '', usecols = None):\n",
    "    # LOAD DATAFRAME\n",
    "    if usecols is not None: df = cudf.read_parquet(path, columns=usecols)\n",
    "    else: df = cudf.read_parquet(path)\n",
    "    # REDUCE DTYPE FOR CUSTOMER AND DATE\n",
    "    #df['customer_ID'] = df['customer_ID'].str[-16:].str.hex_to_int().astype('int64')\n",
    "    df.S_2 = cudf.to_datetime( df.S_2 )\n",
    "    # SORT BY CUSTOMER AND DATE (so agg('last') works correctly)\n",
    "    #df = df.sort_values(['customer_ID','S_2'])\n",
    "    #df = df.reset_index(drop=True)\n",
    "    # FILL NAN\n",
    "    df = df.fillna(0) \n",
    "    print('shape of data:', df.shape)\n",
    "    \n",
    "    return df\n",
    "\n",
    "print('Reading test data...')\n",
    "TEST_PATH = '../input/amex-data-integer-dtypes-parquet-format/test.parquet'\n",
    "test = read_test_file(path = TEST_PATH)"
   ]
  },
  {
   "cell_type": "code",
   "execution_count": 21,
   "id": "3a9670d2",
   "metadata": {
    "execution": {
     "iopub.execute_input": "2022-08-05T13:25:04.074674Z",
     "iopub.status.busy": "2022-08-05T13:25:04.074289Z",
     "iopub.status.idle": "2022-08-05T13:25:04.270556Z",
     "shell.execute_reply": "2022-08-05T13:25:04.269565Z"
    },
    "papermill": {
     "duration": 0.277116,
     "end_time": "2022-08-05T13:25:04.272954",
     "exception": false,
     "start_time": "2022-08-05T13:25:03.995838",
     "status": "completed"
    },
    "tags": []
   },
   "outputs": [
    {
     "data": {
      "text/html": [
       "<div>\n",
       "<style scoped>\n",
       "    .dataframe tbody tr th:only-of-type {\n",
       "        vertical-align: middle;\n",
       "    }\n",
       "\n",
       "    .dataframe tbody tr th {\n",
       "        vertical-align: top;\n",
       "    }\n",
       "\n",
       "    .dataframe thead th {\n",
       "        text-align: right;\n",
       "    }\n",
       "</style>\n",
       "<table border=\"1\" class=\"dataframe\">\n",
       "  <thead>\n",
       "    <tr style=\"text-align: right;\">\n",
       "      <th></th>\n",
       "      <th>customer_ID</th>\n",
       "      <th>S_2</th>\n",
       "      <th>P_2</th>\n",
       "      <th>D_39</th>\n",
       "      <th>B_1</th>\n",
       "      <th>B_2</th>\n",
       "      <th>R_1</th>\n",
       "      <th>S_3</th>\n",
       "      <th>D_41</th>\n",
       "      <th>B_3</th>\n",
       "      <th>...</th>\n",
       "      <th>D_136</th>\n",
       "      <th>D_137</th>\n",
       "      <th>D_138</th>\n",
       "      <th>D_139</th>\n",
       "      <th>D_140</th>\n",
       "      <th>D_141</th>\n",
       "      <th>D_142</th>\n",
       "      <th>D_143</th>\n",
       "      <th>D_144</th>\n",
       "      <th>D_145</th>\n",
       "    </tr>\n",
       "  </thead>\n",
       "  <tbody>\n",
       "    <tr>\n",
       "      <th>0</th>\n",
       "      <td>00000469ba478561f23a92a868bd366de6f6527a684c9a...</td>\n",
       "      <td>2019-02-19</td>\n",
       "      <td>0.631315</td>\n",
       "      <td>0</td>\n",
       "      <td>0.010728</td>\n",
       "      <td>0.814497</td>\n",
       "      <td>0.0</td>\n",
       "      <td>0.168651</td>\n",
       "      <td>0.0</td>\n",
       "      <td>0.002347</td>\n",
       "      <td>...</td>\n",
       "      <td>-1</td>\n",
       "      <td>-1</td>\n",
       "      <td>-1</td>\n",
       "      <td>-1</td>\n",
       "      <td>0</td>\n",
       "      <td>0.0</td>\n",
       "      <td>0.0</td>\n",
       "      <td>-1</td>\n",
       "      <td>0.008281</td>\n",
       "      <td>-1</td>\n",
       "    </tr>\n",
       "    <tr>\n",
       "      <th>1</th>\n",
       "      <td>00000469ba478561f23a92a868bd366de6f6527a684c9a...</td>\n",
       "      <td>2019-03-25</td>\n",
       "      <td>0.587042</td>\n",
       "      <td>0</td>\n",
       "      <td>0.011026</td>\n",
       "      <td>0.810848</td>\n",
       "      <td>0.0</td>\n",
       "      <td>0.241389</td>\n",
       "      <td>0.0</td>\n",
       "      <td>0.009132</td>\n",
       "      <td>...</td>\n",
       "      <td>-1</td>\n",
       "      <td>-1</td>\n",
       "      <td>-1</td>\n",
       "      <td>0</td>\n",
       "      <td>0</td>\n",
       "      <td>0.0</td>\n",
       "      <td>0.0</td>\n",
       "      <td>0</td>\n",
       "      <td>0.003753</td>\n",
       "      <td>0</td>\n",
       "    </tr>\n",
       "    <tr>\n",
       "      <th>2</th>\n",
       "      <td>00000469ba478561f23a92a868bd366de6f6527a684c9a...</td>\n",
       "      <td>2019-04-25</td>\n",
       "      <td>0.609056</td>\n",
       "      <td>0</td>\n",
       "      <td>0.016390</td>\n",
       "      <td>1.004620</td>\n",
       "      <td>0.0</td>\n",
       "      <td>0.266976</td>\n",
       "      <td>0.0</td>\n",
       "      <td>0.004192</td>\n",
       "      <td>...</td>\n",
       "      <td>-1</td>\n",
       "      <td>-1</td>\n",
       "      <td>-1</td>\n",
       "      <td>0</td>\n",
       "      <td>0</td>\n",
       "      <td>0.0</td>\n",
       "      <td>0.0</td>\n",
       "      <td>0</td>\n",
       "      <td>0.002156</td>\n",
       "      <td>0</td>\n",
       "    </tr>\n",
       "    <tr>\n",
       "      <th>3</th>\n",
       "      <td>00000469ba478561f23a92a868bd366de6f6527a684c9a...</td>\n",
       "      <td>2019-05-20</td>\n",
       "      <td>0.614911</td>\n",
       "      <td>0</td>\n",
       "      <td>0.021672</td>\n",
       "      <td>0.816549</td>\n",
       "      <td>0.0</td>\n",
       "      <td>0.188947</td>\n",
       "      <td>0.0</td>\n",
       "      <td>0.015325</td>\n",
       "      <td>...</td>\n",
       "      <td>-1</td>\n",
       "      <td>-1</td>\n",
       "      <td>-1</td>\n",
       "      <td>0</td>\n",
       "      <td>0</td>\n",
       "      <td>0.0</td>\n",
       "      <td>0.0</td>\n",
       "      <td>0</td>\n",
       "      <td>0.005206</td>\n",
       "      <td>0</td>\n",
       "    </tr>\n",
       "    <tr>\n",
       "      <th>4</th>\n",
       "      <td>00000469ba478561f23a92a868bd366de6f6527a684c9a...</td>\n",
       "      <td>2019-06-15</td>\n",
       "      <td>0.591673</td>\n",
       "      <td>8</td>\n",
       "      <td>0.015923</td>\n",
       "      <td>0.810456</td>\n",
       "      <td>0.0</td>\n",
       "      <td>0.180035</td>\n",
       "      <td>0.0</td>\n",
       "      <td>0.011281</td>\n",
       "      <td>...</td>\n",
       "      <td>-1</td>\n",
       "      <td>-1</td>\n",
       "      <td>-1</td>\n",
       "      <td>0</td>\n",
       "      <td>0</td>\n",
       "      <td>0.0</td>\n",
       "      <td>0.0</td>\n",
       "      <td>0</td>\n",
       "      <td>0.007421</td>\n",
       "      <td>0</td>\n",
       "    </tr>\n",
       "  </tbody>\n",
       "</table>\n",
       "<p>5 rows × 190 columns</p>\n",
       "</div>"
      ],
      "text/plain": [
       "                                         customer_ID        S_2       P_2  \\\n",
       "0  00000469ba478561f23a92a868bd366de6f6527a684c9a... 2019-02-19  0.631315   \n",
       "1  00000469ba478561f23a92a868bd366de6f6527a684c9a... 2019-03-25  0.587042   \n",
       "2  00000469ba478561f23a92a868bd366de6f6527a684c9a... 2019-04-25  0.609056   \n",
       "3  00000469ba478561f23a92a868bd366de6f6527a684c9a... 2019-05-20  0.614911   \n",
       "4  00000469ba478561f23a92a868bd366de6f6527a684c9a... 2019-06-15  0.591673   \n",
       "\n",
       "   D_39       B_1       B_2  R_1       S_3  D_41       B_3  ...  D_136  D_137  \\\n",
       "0     0  0.010728  0.814497  0.0  0.168651   0.0  0.002347  ...     -1     -1   \n",
       "1     0  0.011026  0.810848  0.0  0.241389   0.0  0.009132  ...     -1     -1   \n",
       "2     0  0.016390  1.004620  0.0  0.266976   0.0  0.004192  ...     -1     -1   \n",
       "3     0  0.021672  0.816549  0.0  0.188947   0.0  0.015325  ...     -1     -1   \n",
       "4     8  0.015923  0.810456  0.0  0.180035   0.0  0.011281  ...     -1     -1   \n",
       "\n",
       "   D_138  D_139  D_140  D_141  D_142  D_143     D_144  D_145  \n",
       "0     -1     -1      0    0.0    0.0     -1  0.008281     -1  \n",
       "1     -1      0      0    0.0    0.0      0  0.003753      0  \n",
       "2     -1      0      0    0.0    0.0      0  0.002156      0  \n",
       "3     -1      0      0    0.0    0.0      0  0.005206      0  \n",
       "4     -1      0      0    0.0    0.0      0  0.007421      0  \n",
       "\n",
       "[5 rows x 190 columns]"
      ]
     },
     "execution_count": 21,
     "metadata": {},
     "output_type": "execute_result"
    }
   ],
   "source": [
    "test.head()"
   ]
  },
  {
   "cell_type": "code",
   "execution_count": 22,
   "id": "3c673d32",
   "metadata": {
    "execution": {
     "iopub.execute_input": "2022-08-05T13:25:04.298291Z",
     "iopub.status.busy": "2022-08-05T13:25:04.297974Z",
     "iopub.status.idle": "2022-08-05T13:25:12.134906Z",
     "shell.execute_reply": "2022-08-05T13:25:12.133263Z"
    },
    "papermill": {
     "duration": 7.851551,
     "end_time": "2022-08-05T13:25:12.136941",
     "exception": false,
     "start_time": "2022-08-05T13:25:04.285390",
     "status": "completed"
    },
    "tags": []
   },
   "outputs": [
    {
     "name": "stdout",
     "output_type": "stream",
     "text": [
      "shape after engineering (924621, 918)\n"
     ]
    }
   ],
   "source": [
    "test = process_and_feature_engineer(test)"
   ]
  },
  {
   "cell_type": "code",
   "execution_count": 23,
   "id": "201625a3",
   "metadata": {
    "execution": {
     "iopub.execute_input": "2022-08-05T13:25:12.163487Z",
     "iopub.status.busy": "2022-08-05T13:25:12.163150Z",
     "iopub.status.idle": "2022-08-05T13:25:14.488066Z",
     "shell.execute_reply": "2022-08-05T13:25:14.487141Z"
    },
    "papermill": {
     "duration": 2.340863,
     "end_time": "2022-08-05T13:25:14.490368",
     "exception": false,
     "start_time": "2022-08-05T13:25:12.149505",
     "status": "completed"
    },
    "tags": []
   },
   "outputs": [],
   "source": [
    "test['prediction'] = final_model.predict_proba(test)[:,1]"
   ]
  },
  {
   "cell_type": "code",
   "execution_count": 24,
   "id": "b477406e",
   "metadata": {
    "execution": {
     "iopub.execute_input": "2022-08-05T13:25:14.517581Z",
     "iopub.status.busy": "2022-08-05T13:25:14.517067Z",
     "iopub.status.idle": "2022-08-05T13:25:14.892595Z",
     "shell.execute_reply": "2022-08-05T13:25:14.891767Z"
    },
    "papermill": {
     "duration": 0.391859,
     "end_time": "2022-08-05T13:25:14.894945",
     "exception": false,
     "start_time": "2022-08-05T13:25:14.503086",
     "status": "completed"
    },
    "tags": []
   },
   "outputs": [],
   "source": [
    "final = pd.DataFrame(test['prediction'].to_pandas())"
   ]
  },
  {
   "cell_type": "code",
   "execution_count": 25,
   "id": "a64b3030",
   "metadata": {
    "execution": {
     "iopub.execute_input": "2022-08-05T13:25:14.920356Z",
     "iopub.status.busy": "2022-08-05T13:25:14.920046Z",
     "iopub.status.idle": "2022-08-05T13:25:17.008554Z",
     "shell.execute_reply": "2022-08-05T13:25:17.007647Z"
    },
    "papermill": {
     "duration": 2.104063,
     "end_time": "2022-08-05T13:25:17.011174",
     "exception": false,
     "start_time": "2022-08-05T13:25:14.907111",
     "status": "completed"
    },
    "tags": []
   },
   "outputs": [],
   "source": [
    "final.to_csv(\"submission.csv\", index=True)"
   ]
  }
 ],
 "metadata": {
  "kernelspec": {
   "display_name": "Python 3",
   "language": "python",
   "name": "python3"
  },
  "language_info": {
   "codemirror_mode": {
    "name": "ipython",
    "version": 3
   },
   "file_extension": ".py",
   "mimetype": "text/x-python",
   "name": "python",
   "nbconvert_exporter": "python",
   "pygments_lexer": "ipython3",
   "version": "3.7.12"
  },
  "papermill": {
   "default_parameters": {},
   "duration": 7442.057607,
   "end_time": "2022-08-05T13:25:18.987083",
   "environment_variables": {},
   "exception": null,
   "input_path": "__notebook__.ipynb",
   "output_path": "__notebook__.ipynb",
   "parameters": {},
   "start_time": "2022-08-05T11:21:16.929476",
   "version": "2.3.4"
  }
 },
 "nbformat": 4,
 "nbformat_minor": 5
}
